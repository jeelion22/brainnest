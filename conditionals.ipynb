{
 "cells": [
  {
   "cell_type": "markdown",
   "metadata": {},
   "source": [
    "1. Write a program that prompts the user for a string and checks whether the string is a palindrome (i.e., the string reads the same forward and backward)."
   ]
  },
  {
   "cell_type": "code",
   "execution_count": 3,
   "metadata": {},
   "outputs": [
    {
     "name": "stdout",
     "output_type": "stream",
     "text": [
      "Enter a string to check whether it is a palindrome: well\n",
      "The string 'well' is not a palindrome!\n"
     ]
    }
   ],
   "source": [
    "inp = input(\"Enter a string to check whether it is a palindrome: \")\n",
    "\n",
    "if inp[::-1].upper() == inp.upper() :\n",
    "    print(f\"The string '{inp}' is a palindrome!\")\n",
    "    \n",
    "else:\n",
    "    print(f\"The string '{inp}' is not a palindrome!\")        \n",
    "    "
   ]
  },
  {
   "cell_type": "markdown",
   "metadata": {},
   "source": [
    "2. Write a program that takes in a list of integers and returns the sum of all even numbers in the list."
   ]
  },
  {
   "cell_type": "code",
   "execution_count": 7,
   "metadata": {},
   "outputs": [
    {
     "data": {
      "text/plain": [
       "8"
      ]
     },
     "execution_count": 7,
     "metadata": {},
     "output_type": "execute_result"
    }
   ],
   "source": [
    "def sum_of_even_numbers(int_lst):\n",
    "   \n",
    "    return sum(i for i in int_lst if i % 2 == 0)\n",
    "        \n",
    "    \n",
    "sum_of_even_numbers([1, 2, 3, 6])    \n",
    "    "
   ]
  },
  {
   "cell_type": "markdown",
   "metadata": {},
   "source": [
    "3. Write a program that prompts the user for their age and checks whether they are old enough to vote (i.e., 18 years old or older)."
   ]
  },
  {
   "cell_type": "code",
   "execution_count": 14,
   "metadata": {},
   "outputs": [
    {
     "name": "stdout",
     "output_type": "stream",
     "text": [
      "Enter your age to check wether you are old enough to vote: 17.5\n",
      "You are not old enough to vote.\n"
     ]
    }
   ],
   "source": [
    "age = float(input((\"Enter your age to check wether you are old enough to vote: \")))\n",
    "\n",
    "if age >= 18 :\n",
    "    print(\"You can vote.\")\n",
    "\n",
    "else:\n",
    "    print(\"You are not old enough to vote.\")\n",
    "    "
   ]
  },
  {
   "cell_type": "markdown",
   "metadata": {},
   "source": [
    "4. Write a program that takes in a list of integers and returns the largest number in the list that is also divisible by 3."
   ]
  },
  {
   "cell_type": "code",
   "execution_count": 20,
   "metadata": {},
   "outputs": [
    {
     "data": {
      "text/plain": [
       "3"
      ]
     },
     "execution_count": 20,
     "metadata": {},
     "output_type": "execute_result"
    }
   ],
   "source": [
    "def lrgst_num_dvd_by_3(int_lst):\n",
    "    \n",
    "    largest = None\n",
    "       \n",
    "    for i in int_lst:\n",
    "        if largest is None or (i % 3 == 0 and i > largest) :\n",
    "            largest = i\n",
    "    \n",
    "    return largest\n",
    "\n",
    "lrgst_num_dvd_by_3([3, 1, 2])      \n",
    "            "
   ]
  },
  {
   "cell_type": "markdown",
   "metadata": {},
   "source": [
    "5. Write a program that prompts the user for a number and checks whether the number is a prime number (i.e., only divisible by 1 and itself)."
   ]
  },
  {
   "cell_type": "code",
   "execution_count": 46,
   "metadata": {},
   "outputs": [
    {
     "name": "stdout",
     "output_type": "stream",
     "text": [
      "Enter a number to check whether it is a 'prime number': 1513\n",
      "1513 is not a prime number.\n"
     ]
    }
   ],
   "source": [
    "num = int(input(\"Enter a number to check whether it is a 'prime number': \"))\n",
    "\n",
    "if num == 1 :\n",
    "    print(f\"{num} is not a prime number.\")\n",
    "    \n",
    "elif num > 1 :\n",
    "\n",
    "    for i in range(2, num):       \n",
    "\n",
    "        if num % i == 0 :\n",
    "            print(f\"{num} is not a prime number.\")\n",
    "            break\n",
    "\n",
    "    else:\n",
    "        print(f\"{num} is a prime number\")"
   ]
  },
  {
   "cell_type": "code",
   "execution_count": null,
   "metadata": {},
   "outputs": [],
   "source": []
  },
  {
   "cell_type": "code",
   "execution_count": null,
   "metadata": {},
   "outputs": [],
   "source": []
  }
 ],
 "metadata": {
  "kernelspec": {
   "display_name": "Python 3 (ipykernel)",
   "language": "python",
   "name": "python3"
  },
  "language_info": {
   "codemirror_mode": {
    "name": "ipython",
    "version": 3
   },
   "file_extension": ".py",
   "mimetype": "text/x-python",
   "name": "python",
   "nbconvert_exporter": "python",
   "pygments_lexer": "ipython3",
   "version": "3.9.13"
  },
  "vscode": {
   "interpreter": {
    "hash": "f7a5be651532581cb44625d52e18aa1d390cab54bc6b51099d8c30bea9b68219"
   }
  }
 },
 "nbformat": 4,
 "nbformat_minor": 2
}
