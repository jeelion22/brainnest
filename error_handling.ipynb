{
 "cells": [
  {
   "cell_type": "markdown",
   "metadata": {},
   "source": [
    "1. Write a function that takes a list of integers as an argument, and returns the sum of the integers. Use a try-except block to catch any ValueError exceptions that may be raised when attempting to convert a string to an integer."
   ]
  },
  {
   "cell_type": "code",
   "execution_count": 18,
   "metadata": {},
   "outputs": [
    {
     "name": "stdout",
     "output_type": "stream",
     "text": [
      "\n",
      "The sum of the list [1, 2, 3, 4, 1] is 11.\n",
      "\n"
     ]
    }
   ],
   "source": [
    "def sum_of_list(int_list):\n",
    "\n",
    "    try:\n",
    "        map_obj = map(int, int_list)\n",
    "        int_list = list(map_obj)\n",
    "        sum = 0\n",
    "\n",
    "        for i in range(len(int_list)):\n",
    "            sum += int_list[i]\n",
    "\n",
    "        print(\"\\nThe sum of the list {} is {}.\\n\".format(int_list, sum))\n",
    "\n",
    "    except Exception as e:\n",
    "\n",
    "        print(str(e))\n",
    "        print(type(e))\n",
    "        print(\"Sorry, please enter integers alone\")        \n",
    "\n",
    "\n",
    "sum_of_list([1, 2, 3, 4, 1])\n",
    "\n",
    "\n",
    "\n",
    "\n"
   ]
  },
  {
   "cell_type": "markdown",
   "metadata": {},
   "source": [
    "2. Write a function that takes a filename as an argument, and attempts to open the file. Use a try-except block to catch any FileNotFoundError exceptions that may be raised when attempting to open the file. If the file is successfully opened, the function should return the contents of the file."
   ]
  },
  {
   "cell_type": "code",
   "execution_count": 26,
   "metadata": {},
   "outputs": [
    {
     "name": "stdout",
     "output_type": "stream",
     "text": [
      "\n",
      "Please wait, I am finding the location...\n",
      "\n",
      "I am reading your file...\n",
      "\n",
      "Thank you for waiting, here is your content\n",
      "\n",
      "Hi,\n",
      "\n",
      "\n",
      "\n",
      "This is Jeeva Madhaiyan, during the covid-19 pandemic I lost my job due to the unavailability of projects. up to mid-2022, I was doing some freelancing projects with my previous employer; later, there were no such projects. I decided to switch my career to software development to become a full-stack python developer. I am doing full-time self-learning, and I have completed python. For the front end, it is required HTML, CSS, and js. To get a better understanding, I want to take courses from Coursera. I have enrolled in courses with free audits, but while applying to companies they require certification. As I am economically weak, I am not able to pay for the course so I am applying for this financial aid. I am doing a part-time delivery partner job for my living but the earning from that is not enough for two-wheeler fueling and food, hence I could not pay for the course. So the aid is a much helpful to get a job asap.\n",
      "\n",
      "\n",
      "\n",
      "I am having the road map for full-stack development, Django, Python, and APIs, also I would like to learn to React as a front-end, and the course must import as a software developer. The course that I selected is for the front end of web development. As I am already aware of python, it will help me to learn the Django web framework where they can be used as static assets.  I tried some textbooks and youtube lectures on front-end technologies, but they did not satisfy me. Because they start on the way they go or else they didn't start from the start. I tried. So I decided to take this course to get a better start and understand the client-side languages. I also would like to get enrolled in the database, version control, and APIs. Overall this course will help me to make a good web application and also for getting a job.\n",
      "\n"
     ]
    }
   ],
   "source": [
    "# The read_file function reads text files only\n",
    "\n",
    "def read_text_file(file_name, file_path):\n",
    "\n",
    "    import os\n",
    "\n",
    "    try:\n",
    "        \n",
    "        print('\\nPlease wait, I am finding the location...')\n",
    "        \n",
    "        os.chdir(file_path)\n",
    "\n",
    "        content = open(file_name, \"r\")\n",
    "\n",
    "    except Exception as e:       \n",
    "        print(str(e))\n",
    "  \n",
    "\n",
    "    else:\n",
    "        \n",
    "        print('\\nI am reading your file...')\n",
    "        print('\\nThank you for waiting, here is your content\\n')\n",
    "\n",
    "        for line in content:\n",
    "            print(line)\n",
    "\n",
    "        content.close()\n",
    "\n",
    "\n",
    "read_text_file(\"coursera_financial_aid.txt\", \"/home/shri\")\n",
    "    "
   ]
  },
  {
   "cell_type": "markdown",
   "metadata": {},
   "source": [
    "3. Write a function that takes a list of strings as an argument, and returns a new list containing only the strings that can be successfully converted to a float. Use a try-except block to catch any ValueError exceptions that may be raised when attempting to convert a string to a float."
   ]
  },
  {
   "cell_type": "code",
   "execution_count": null,
   "metadata": {},
   "outputs": [],
   "source": []
  },
  {
   "cell_type": "markdown",
   "metadata": {},
   "source": [
    "4. Write a function that takes a list of dictionaries as an argument, and returns the value of a specified key from each dictionary. Use a try-except block to catch any KeyError exceptions that may be raised when attempting to access a key that does not exist in a dictionary."
   ]
  },
  {
   "cell_type": "code",
   "execution_count": null,
   "metadata": {},
   "outputs": [],
   "source": []
  },
  {
   "cell_type": "markdown",
   "metadata": {},
   "source": [
    "5. Write a function that takes a list of integers as an argument, and returns the largest integer in the list. Use a try-except block to catch any ValueError exceptions that may be raised when attempting to compare elements that are not integers."
   ]
  },
  {
   "cell_type": "code",
   "execution_count": null,
   "metadata": {},
   "outputs": [],
   "source": []
  }
 ],
 "metadata": {
  "kernelspec": {
   "display_name": "Python 3 (ipykernel)",
   "language": "python",
   "name": "python3"
  },
  "language_info": {
   "codemirror_mode": {
    "name": "ipython",
    "version": 3
   },
   "file_extension": ".py",
   "mimetype": "text/x-python",
   "name": "python",
   "nbconvert_exporter": "python",
   "pygments_lexer": "ipython3",
   "version": "3.9.13"
  },
  "vscode": {
   "interpreter": {
    "hash": "f7a5be651532581cb44625d52e18aa1d390cab54bc6b51099d8c30bea9b68219"
   }
  }
 },
 "nbformat": 4,
 "nbformat_minor": 2
}
