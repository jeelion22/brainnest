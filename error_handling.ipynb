{
 "cells": [
  {
   "cell_type": "markdown",
   "metadata": {},
   "source": [
    "1. Write a function that takes a list of integers as an argument, and returns the sum of the integers. Use a try-except block to catch any ValueError exceptions that may be raised when attempting to convert a string to an integer."
   ]
  },
  {
   "cell_type": "code",
   "execution_count": 1,
   "metadata": {},
   "outputs": [
    {
     "name": "stdout",
     "output_type": "stream",
     "text": [
      "\n",
      "The sum of the list [1, 2, 3, 4, 1] is 11.\n",
      "\n"
     ]
    }
   ],
   "source": [
    "def sum_of_list(int_list):\n",
    "\n",
    "    try:\n",
    "        map_obj = map(int, int_list)\n",
    "        int_list = list(map_obj)\n",
    "        \n",
    "        sum = 0\n",
    "        \n",
    "        # sum the items in the intlist\n",
    "\n",
    "        for i in range(len(int_list)):\n",
    "            sum += int_list[i]\n",
    "\n",
    "        print(\"\\nThe sum of the list {} is {}.\\n\".format(int_list, sum))\n",
    "\n",
    "    except Exception as e:\n",
    "\n",
    "        print(str(e))\n",
    "        print(type(e))\n",
    "        print(\"Sorry, please enter integers alone\")        \n",
    "\n",
    "\n",
    "sum_of_list([1, 2, 3, 4, 1])\n",
    "\n",
    "\n",
    "\n",
    "\n"
   ]
  },
  {
   "cell_type": "markdown",
   "metadata": {},
   "source": [
    "2. Write a function that takes a filename as an argument, and attempts to open the file. Use a try-except block to catch any FileNotFoundError exceptions that may be raised when attempting to open the file. If the file is successfully opened, the function should return the contents of the file."
   ]
  },
  {
   "cell_type": "code",
   "execution_count": 49,
   "metadata": {},
   "outputs": [],
   "source": [
    "# The read_file function reads text files only\n",
    "\n",
    "def read_text_file(file_name, file_path):\n",
    "\n",
    "    import os\n",
    "\n",
    "    try:\n",
    "        \n",
    "        print('\\nChecks location...')\n",
    "        \n",
    "        os.chdir(file_path)\n",
    "\n",
    "        content = open(file_name, \"r\")\n",
    "\n",
    "    except Exception as e:       \n",
    "        print(str(e))\n",
    "  \n",
    "\n",
    "    else:\n",
    "        \n",
    "        print('\\nloading file...\\n')   \n",
    "\n",
    "        for line in content:\n",
    "            print(line)\n",
    "\n",
    "        content.close()\n",
    "\n",
    "\n",
    "#read_text_file(\"coursera_financial_aid.txt\", \"/home/shri\")\n",
    "    "
   ]
  },
  {
   "cell_type": "markdown",
   "metadata": {},
   "source": [
    "3. Write a function that takes a list of strings as an argument, and returns a new list containing only the strings that can be successfully converted to a float. Use a try-except block to catch any ValueError exceptions that may be raised when attempting to convert a string to a float."
   ]
  },
  {
   "cell_type": "code",
   "execution_count": 53,
   "metadata": {},
   "outputs": [
    {
     "name": "stdout",
     "output_type": "stream",
     "text": [
      "List should contain only numerals, please provide a valid list.\n"
     ]
    }
   ],
   "source": [
    "def convert_float(str_lst): \n",
    "    \n",
    "    try:\n",
    "        new_lst = map(float, str_lst)\n",
    "        return list(new_lst) # returns list of integers\n",
    "    except Exception as e:\n",
    "        print('List should contain only numerals, please provide a valid list.')\n",
    "       \n",
    "        \n",
    "convert_float([1.2, '2', 'a'])     "
   ]
  },
  {
   "cell_type": "markdown",
   "metadata": {},
   "source": [
    "4. Write a function that takes a list of dictionaries as an argument, and returns the value of a specified key from each dictionary. Use a try-except block to catch any KeyError exceptions that may be raised when attempting to access a key that does not exist in a dictionary."
   ]
  },
  {
   "cell_type": "code",
   "execution_count": 47,
   "metadata": {},
   "outputs": [
    {
     "name": "stdout",
     "output_type": "stream",
     "text": [
      "Harry\n",
      "Python\n"
     ]
    }
   ],
   "source": [
    "def dict_value(lst, key):\n",
    "    \n",
    "    # initialize the count for no.of exception\n",
    "    count = 0\n",
    "    \n",
    "    for item in lst:\n",
    "        try:\n",
    "            print(item[key])\n",
    "            \n",
    "        except:\n",
    "            count += 1\n",
    "        \n",
    "        # skip to the next loop if the key not found in the item\n",
    "        continue\n",
    "    \n",
    "    # returns error message if the key not found in the all item of the list\n",
    "    if count == len(lst):\n",
    "        print('KeyError: {} not found'.format(key))\n",
    "\n",
    "dict_value([{'name': 'Harry', 'age': 9}, {'name': 'Python'}], 'name')    "
   ]
  },
  {
   "cell_type": "markdown",
   "metadata": {},
   "source": [
    "5. Write a function that takes a list of integers as an argument, and returns the largest integer in the list. Use a try-except block to catch any ValueError exceptions that may be raised when attempting to compare elements that are not integers."
   ]
  },
  {
   "cell_type": "code",
   "execution_count": 48,
   "metadata": {},
   "outputs": [
    {
     "name": "stdout",
     "output_type": "stream",
     "text": [
      "TypeError: 1.7 is a string. \n",
      "Only integers list allowed.\n"
     ]
    }
   ],
   "source": [
    "# need to be completed\n",
    "\n",
    "def largest_int(lst): \n",
    "        \n",
    "    try:\n",
    "        \n",
    "        largest = None\n",
    "           \n",
    "        for i in lst:\n",
    "            if largest is None or i > largest :\n",
    "                largest = i\n",
    "        \n",
    "    except Exception as e:\n",
    "        print('TypeError: {} is a string. '.format(i))\n",
    "        print('Only integers list allowed.')\n",
    "                \n",
    "    else :\n",
    "        print(largest)\n",
    "\n",
    "largest_int([1, 3, '1.7'])\n",
    "        \n",
    "    "
   ]
  },
  {
   "cell_type": "code",
   "execution_count": null,
   "metadata": {},
   "outputs": [],
   "source": []
  },
  {
   "cell_type": "code",
   "execution_count": null,
   "metadata": {},
   "outputs": [],
   "source": []
  },
  {
   "cell_type": "code",
   "execution_count": null,
   "metadata": {},
   "outputs": [],
   "source": []
  }
 ],
 "metadata": {
  "kernelspec": {
   "display_name": "Python 3 (ipykernel)",
   "language": "python",
   "name": "python3"
  },
  "language_info": {
   "codemirror_mode": {
    "name": "ipython",
    "version": 3
   },
   "file_extension": ".py",
   "mimetype": "text/x-python",
   "name": "python",
   "nbconvert_exporter": "python",
   "pygments_lexer": "ipython3",
   "version": "3.9.13"
  },
  "vscode": {
   "interpreter": {
    "hash": "f7a5be651532581cb44625d52e18aa1d390cab54bc6b51099d8c30bea9b68219"
   }
  }
 },
 "nbformat": 4,
 "nbformat_minor": 2
}
