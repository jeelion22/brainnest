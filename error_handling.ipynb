{
 "cells": [
  {
   "cell_type": "markdown",
   "metadata": {},
   "source": [
    "1. Write a function that takes a list of integers as an argument, and returns the sum of the integers. Use a try-except block to catch any ValueError exceptions that may be raised when attempting to convert a string to an integer."
   ]
  },
  {
   "cell_type": "code",
   "execution_count": 12,
   "metadata": {
    "scrolled": true
   },
   "outputs": [
    {
     "data": {
      "text/plain": [
       "10"
      ]
     },
     "execution_count": 12,
     "metadata": {},
     "output_type": "execute_result"
    }
   ],
   "source": [
    "def sum_of_integers(int_list):\n",
    "    \n",
    "    try:\n",
    "        return sum(map(int, int_list))\n",
    "    \n",
    "    except ValueError:\n",
    "        print(\"The list should contain only integer values.\")      \n",
    "               \n",
    "sum_of_integers([1, 2.5, '3', 4])\n"
   ]
  },
  {
   "cell_type": "code",
   "execution_count": 13,
   "metadata": {},
   "outputs": [
    {
     "name": "stdout",
     "output_type": "stream",
     "text": [
      "Sorry, please enter the list that contains only integer values or integer convertables.\n"
     ]
    }
   ],
   "source": [
    "sum_of_integers([1, 2.5, '3', '3.5', 4])"
   ]
  },
  {
   "cell_type": "markdown",
   "metadata": {},
   "source": [
    "\n",
    "2. Write a function that takes a filename as an argument, and attempts to open the file. Use a try-except block to catch any FileNotFoundError exceptions that may be raised when attempting to open the file. If the file is successfully opened, the function should return the contents of the file."
   ]
  },
  {
   "cell_type": "code",
   "execution_count": 2,
   "metadata": {},
   "outputs": [
    {
     "name": "stdout",
     "output_type": "stream",
     "text": [
      "“Extraordinary things are always hiding in places people never think to look.” —Jodi Picoul\n"
     ]
    }
   ],
   "source": [
    "# The read_file function reads text files only\n",
    "# The function accepts file path as an optional argument\n",
    "\n",
    "def read_txt_file(file_name, file_path=None):\n",
    "    \n",
    "    import os \n",
    "\n",
    "    try:\n",
    "        \n",
    "        # opens file in a ecific loaction\n",
    "        if file_path != None:\n",
    "            os.chdir(file_path)\n",
    "            \n",
    "        # reads file if it is found\n",
    "        content = open(file_name, \"r\")\n",
    "        \n",
    "        # prints contents in the file by line by line\n",
    "        for line in content:\n",
    "            print(line.strip())\n",
    "\n",
    "        content.close()\n",
    "\n",
    "    except FileNotFoundError:\n",
    "\n",
    "        print(\"Please enter correct file name or location\")\n",
    "\n",
    "\n",
    "read_txt_file(\"see_me.txt\")\n",
    "    "
   ]
  },
  {
   "cell_type": "markdown",
   "metadata": {},
   "source": [
    "3. Write a function that takes a list of strings as an argument, and returns a new list containing only the strings that can be successfully converted to a float. Use a try-except block to catch any ValueError exceptions that may be raised when attempting to convert a string to a float."
   ]
  },
  {
   "cell_type": "code",
   "execution_count": 16,
   "metadata": {},
   "outputs": [
    {
     "data": {
      "text/plain": [
       "[0, '0', 1.2, '2', 3]"
      ]
     },
     "execution_count": 16,
     "metadata": {},
     "output_type": "execute_result"
    }
   ],
   "source": [
    "# function returns a list of strings that can be convertable to float\n",
    "\n",
    "def float_convertables(str_lst): \n",
    "    \n",
    "    new_lst = []\n",
    "    \n",
    "    for i in str_lst:\n",
    "        try :\n",
    "            float(i)\n",
    "            new_lst.append(i)\n",
    "            \n",
    "        except:\n",
    "            pass\n",
    "        \n",
    "    return new_lst    \n",
    "    \n",
    "\n",
    "\n",
    "         \n",
    "        \n",
    "float_convertables([0, '0', 1.2, '2', 'a', 3, 'float'])     "
   ]
  },
  {
   "cell_type": "code",
   "execution_count": 17,
   "metadata": {},
   "outputs": [
    {
     "data": {
      "text/plain": [
       "['-0', '0.0', 1.2, '2', 3]"
      ]
     },
     "execution_count": 17,
     "metadata": {},
     "output_type": "execute_result"
    }
   ],
   "source": [
    "float_convertables([\"-0\", '0.0', 1.2, '2', 'a', 3, 'float'])"
   ]
  },
  {
   "cell_type": "markdown",
   "metadata": {},
   "source": [
    "4. Write a function that takes a list of dictionaries as an argument, and returns the value of a specified key from each dictionary. Use a try-except block to catch any KeyError exceptions that may be raised when attempting to access a key that does not exist in a dictionary."
   ]
  },
  {
   "cell_type": "code",
   "execution_count": 15,
   "metadata": {},
   "outputs": [
    {
     "data": {
      "text/plain": [
       "['Harry', 'Python']"
      ]
     },
     "execution_count": 15,
     "metadata": {},
     "output_type": "execute_result"
    }
   ],
   "source": [
    "def dict_value(lst, key):\n",
    "    \n",
    "    # initialize the count for no.of KeyError event\n",
    "    count = 0\n",
    "    val = []\n",
    "    \n",
    "    for item in lst:\n",
    "        try:\n",
    "            val.append(item[key])\n",
    "            \n",
    "        except:\n",
    "            count += 1        \n",
    "   \n",
    "    # returns error message if the key not found in the all item of the list\n",
    "    if count == len(lst):\n",
    "        print(\"The key '{}' is not found!\".format(key))\n",
    "        \n",
    "    else:        \n",
    "        return val   \n",
    "\n",
    "dict_value([{'name': 'Harry', 'age': 9}, {'name': 'Python', 'age':25, 'founder': 'Guido van Rossum'}], 'name')  \n"
   ]
  },
  {
   "cell_type": "markdown",
   "metadata": {},
   "source": [
    "5. Write a function that takes a list of integers as an argument, and returns the largest integer in the list. Use a try-except block to catch any ValueError exceptions that may be raised when attempting to compare elements that are not integers."
   ]
  },
  {
   "cell_type": "code",
   "execution_count": 14,
   "metadata": {},
   "outputs": [
    {
     "data": {
      "text/plain": [
       "3"
      ]
     },
     "execution_count": 14,
     "metadata": {},
     "output_type": "execute_result"
    }
   ],
   "source": [
    "# need to be completed\n",
    "\n",
    "def largest_int(lst): \n",
    "    \n",
    "    try:\n",
    "        return max(map(int, lst))\n",
    "    \n",
    "    except ValueError:\n",
    "        print('\"The list should contain only integer values.')\n",
    "            \n",
    "largest_int([1, 3.5, '3'])   "
   ]
  },
  {
   "cell_type": "code",
   "execution_count": null,
   "metadata": {},
   "outputs": [],
   "source": []
  },
  {
   "cell_type": "code",
   "execution_count": null,
   "metadata": {},
   "outputs": [],
   "source": []
  },
  {
   "cell_type": "code",
   "execution_count": null,
   "metadata": {},
   "outputs": [],
   "source": []
  }
 ],
 "metadata": {
  "kernelspec": {
   "display_name": "Python 3 (ipykernel)",
   "language": "python",
   "name": "python3"
  },
  "language_info": {
   "codemirror_mode": {
    "name": "ipython",
    "version": 3
   },
   "file_extension": ".py",
   "mimetype": "text/x-python",
   "name": "python",
   "nbconvert_exporter": "python",
   "pygments_lexer": "ipython3",
   "version": "3.9.13"
  },
  "vscode": {
   "interpreter": {
    "hash": "f7a5be651532581cb44625d52e18aa1d390cab54bc6b51099d8c30bea9b68219"
   }
  }
 },
 "nbformat": 4,
 "nbformat_minor": 2
}
