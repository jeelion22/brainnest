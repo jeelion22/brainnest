{
 "cells": [
  {
   "cell_type": "markdown",
   "metadata": {},
   "source": [
    "1.  Write a regular expression that matches a date in the format dd/mm/yyyy. For example, the string \"01/01/2021\" should match."
   ]
  },
  {
   "cell_type": "code",
   "execution_count": 2,
   "metadata": {},
   "outputs": [
    {
     "name": "stdout",
     "output_type": "stream",
     "text": [
      "01/01/2021\n"
     ]
    }
   ],
   "source": [
    "import re\n",
    "\n",
    "date_string = \"01/01/2021\"\n",
    "\n",
    "pattern = re.compile(r\"\\d{2}/\\d{2}/\\d{4}\")\n",
    "\n",
    "matches = pattern.finditer(date_string)\n",
    "\n",
    "for match in matches:\n",
    "    print(match.group())\n"
   ]
  },
  {
   "cell_type": "markdown",
   "metadata": {},
   "source": [
    "2. Write a regular expression that matches a phone number in the format xxx-xxx-xxxx, where x is a digit. For example, the string \"123-456-7890\" should match."
   ]
  },
  {
   "cell_type": "code",
   "execution_count": 3,
   "metadata": {},
   "outputs": [
    {
     "name": "stdout",
     "output_type": "stream",
     "text": [
      "123-456-7890\n"
     ]
    }
   ],
   "source": [
    "import re\n",
    "\n",
    "phone_number = \"123-456-7890\"\n",
    "\n",
    "pattern = re.compile(r\"\\d{3}-\\d{3}-\\d{4}\")\n",
    "\n",
    "matches = pattern.finditer(phone_number)\n",
    "\n",
    "for match in matches:\n",
    "    print(match.group())"
   ]
  },
  {
   "cell_type": "markdown",
   "metadata": {},
   "source": [
    "3. Write a regular expression that matches a valid email address. For example, the string \"example@example.com\" should match."
   ]
  },
  {
   "cell_type": "code",
   "execution_count": 7,
   "metadata": {},
   "outputs": [
    {
     "name": "stdout",
     "output_type": "stream",
     "text": [
      "test@testemail.com\n",
      "example@example.com\n",
      "myname4@myemail.in\n"
     ]
    }
   ],
   "source": [
    "import re\n",
    "\n",
    "email_address = \"\"\"test@testemail.com\n",
    "example@example.com\n",
    "myname4@myemail.in\"\"\"\n",
    "\n",
    "pattern = re.compile(r\"(\\w+)@(\\w+)\\.(\\w+)\")\n",
    "\n",
    "matches = pattern.finditer(email_address)\n",
    "\n",
    "for match in matches:\n",
    "    print(match.group())"
   ]
  },
  {
   "cell_type": "markdown",
   "metadata": {},
   "source": [
    "4. Write a regular expression that matches a string that starts with a word, followed by one or more whitespace characters, followed by another word. For example, the string \"hello world\" should match."
   ]
  },
  {
   "cell_type": "code",
   "execution_count": 9,
   "metadata": {},
   "outputs": [
    {
     "name": "stdout",
     "output_type": "stream",
     "text": [
      "hello world\n"
     ]
    }
   ],
   "source": [
    "import re\n",
    "\n",
    "my_string = \"hello world\"\n",
    "\n",
    "pattern = re.compile(r\"[a-zA-Z]+\\s+[a-zA-Z]+\")\n",
    "\n",
    "matches = pattern.finditer(my_string)\n",
    "\n",
    "for match in matches:\n",
    "    print(match.group())"
   ]
  },
  {
   "cell_type": "markdown",
   "metadata": {},
   "source": [
    "5. Write a regular expression that matches a string that contains a number with exactly two decimal places. For example, the string \"1.23\" should match, but the string \"1.234\" should not match."
   ]
  },
  {
   "cell_type": "code",
   "execution_count": 75,
   "metadata": {},
   "outputs": [
    {
     "name": "stdout",
     "output_type": "stream",
     "text": [
      "<re.Match object; span=(0, 4), match='1.23'>\n",
      "<re.Match object; span=(10, 14), match='1.23'>\n",
      "<re.Match object; span=(16, 20), match='5.86'>\n",
      "<re.Match object; span=(23, 27), match='1.11'>\n"
     ]
    }
   ],
   "source": [
    "# import re\n",
    "\n",
    "# my_string = \"1.23 1234 1.234 5.8693 1.11\"\n",
    "\n",
    "# pattern = re.compile(r\"(\\d+\\.\\d\\d?)\")\n",
    "\n",
    "# matches = pattern.finditer(my_string)\n",
    "\n",
    "# for match in matches:\n",
    "#     print(match)"
   ]
  },
  {
   "cell_type": "code",
   "execution_count": null,
   "metadata": {},
   "outputs": [],
   "source": []
  },
  {
   "cell_type": "code",
   "execution_count": null,
   "metadata": {},
   "outputs": [],
   "source": []
  }
 ],
 "metadata": {
  "kernelspec": {
   "display_name": "Python 3 (ipykernel)",
   "language": "python",
   "name": "python3"
  },
  "language_info": {
   "codemirror_mode": {
    "name": "ipython",
    "version": 3
   },
   "file_extension": ".py",
   "mimetype": "text/x-python",
   "name": "python",
   "nbconvert_exporter": "python",
   "pygments_lexer": "ipython3",
   "version": "3.9.13"
  },
  "vscode": {
   "interpreter": {
    "hash": "f7a5be651532581cb44625d52e18aa1d390cab54bc6b51099d8c30bea9b68219"
   }
  }
 },
 "nbformat": 4,
 "nbformat_minor": 2
}
