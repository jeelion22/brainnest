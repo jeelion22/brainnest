{
 "cells": [
  {
   "attachments": {},
   "cell_type": "markdown",
   "metadata": {},
   "source": [
    "1. Create a class called Rectangle that has attributes width and height. Add methods area and perimeter that calculate the area and perimeter of the rectangle, respectively."
   ]
  },
  {
   "cell_type": "code",
   "execution_count": 7,
   "metadata": {},
   "outputs": [
    {
     "name": "stdout",
     "output_type": "stream",
     "text": [
      "600\n",
      "100\n"
     ]
    }
   ],
   "source": [
    "class Rectangle():\n",
    "    def __init__(self, width, height):\n",
    "        self.width = width\n",
    "        self.height = height\n",
    "\n",
    "    def get_area(self):\n",
    "        area = self.width * self.height\n",
    "        return area\n",
    "    \n",
    "    def get_perimeter(self):\n",
    "        perimeter = 2*(self.width + self.height)\n",
    "        return perimeter\n",
    "    \n",
    "rectangle = Rectangle(20, 30)\n",
    "\n",
    "print(rectangle.get_area())\n",
    "print(rectangle.get_perimeter())\n",
    "\n"
   ]
  },
  {
   "attachments": {},
   "cell_type": "markdown",
   "metadata": {},
   "source": [
    "2. Create a class called Circle that has attribute radius. Add methods area and circumference that calculate the area and circumference of the circle, respectively."
   ]
  },
  {
   "cell_type": "code",
   "execution_count": 6,
   "metadata": {},
   "outputs": [
    {
     "name": "stdout",
     "output_type": "stream",
     "text": [
      "154.0\n",
      "44.0\n"
     ]
    }
   ],
   "source": [
    "class Circle():\n",
    "    def __init__(self, radius):\n",
    "        self.radius = radius\n",
    "\n",
    "    def get_area(self):\n",
    "        area = (22 / 7) * self.radius ** 2\n",
    "\n",
    "        return area\n",
    "    \n",
    "    def get_circumference(self):\n",
    "        circumference = 2 * (22 / 7) * self.radius\n",
    "\n",
    "        return circumference\n",
    "    \n",
    "circle = Circle(7)\n",
    "\n",
    "print(circle.get_area())\n",
    "print(circle.get_circumference())\n"
   ]
  },
  {
   "attachments": {},
   "cell_type": "markdown",
   "metadata": {},
   "source": [
    "3. Create a class called Car that has attributes make, model, and year. Add methods start and stop that simulate starting and stopping the car, respectively."
   ]
  },
  {
   "cell_type": "code",
   "execution_count": 22,
   "metadata": {},
   "outputs": [
    {
     "name": "stdout",
     "output_type": "stream",
     "text": [
      "BMW\n",
      "BMW iX\n",
      "2022\n",
      "starting engine...\n",
      "Vroom-vroom\n",
      "Car engine is already on\n",
      "Stopping engine...\n",
      "Engine is off\n",
      "Car engine already has stopped running\n"
     ]
    }
   ],
   "source": [
    "class Car():\n",
    "    def __init__(self, make:str, model:str, year:int):\n",
    "        self.make = make\n",
    "        self.model = model\n",
    "        self.year = year\n",
    "        self.engine_ignite = False\n",
    "\n",
    "\n",
    "    def start(self):\n",
    "        if self.engine_ignite == False :\n",
    "            self.engine_ignite = True\n",
    "            print(\"starting engine...\")\n",
    "            print(\"Vroom-vroom\")\n",
    "        \n",
    "        elif self.engine_ignite == True:\n",
    "            print(\"Car engine is already on\")\n",
    "\n",
    "    def stop(self):\n",
    "        if self.engine_ignite == True:\n",
    "            self.engine_ignite = False\n",
    "            print(\"Stopping engine...\")\n",
    "            print(\"Engine is off\")\n",
    "\n",
    "        elif self.engine_ignite == False:\n",
    "            print(\"Car engine already has stopped running\")\n",
    "\n",
    "car = Car(\"BMW\", \"BMW iX\", 2022)\n",
    "\n",
    "print(car.make)\n",
    "print(car.model)\n",
    "print(car.year)\n",
    "\n",
    "car.start()\n",
    "car.start()\n",
    "car.stop()\n",
    "car.stop()\n"
   ]
  },
  {
   "attachments": {},
   "cell_type": "markdown",
   "metadata": {},
   "source": [
    "4. Create a class called Dice that has attribute sides (the number of sides on the dice). Add a method roll that generates a random number between 1 and the number of sides on the dice."
   ]
  },
  {
   "cell_type": "code",
   "execution_count": 39,
   "metadata": {},
   "outputs": [
    {
     "name": "stdout",
     "output_type": "stream",
     "text": [
      "5\n"
     ]
    }
   ],
   "source": [
    "from dataclasses import dataclass\n",
    "from random import randint\n",
    "\n",
    "\n",
    "@dataclass\n",
    "class Dice:\n",
    "    side: int\n",
    "\n",
    "    def roll(self):\n",
    "        try:\n",
    "            number = randint(1, int(self.side))\n",
    "            return number\n",
    "        except ValueError:\n",
    "            return \"The attribute value is invalid. It must be an integer.\"\n",
    "\n",
    "\n",
    "cubic_dice = Dice(6)\n",
    "\n",
    "print(cubic_dice.roll())"
   ]
  },
  {
   "attachments": {},
   "cell_type": "markdown",
   "metadata": {},
   "source": [
    "5. Create a class called Temperature that has attribute celsius (a temperature in degrees Celsius). Add methods to_fahrenheit and to_kelvin that convert the temperature to degrees Fahrenheit and Kelvin, respectively."
   ]
  },
  {
   "cell_type": "code",
   "execution_count": 50,
   "metadata": {},
   "outputs": [
    {
     "name": "stdout",
     "output_type": "stream",
     "text": [
      "Temperatue in Fahrenheit from Celsius is 73.4\n",
      "Temperatue in Kelvin from Celsius is 296.15\n"
     ]
    }
   ],
   "source": [
    "from dataclasses import dataclass, field\n",
    "\n",
    "@dataclass\n",
    "class Temperature():\n",
    "    celsius: float\n",
    "\n",
    "    def to_fahrenheit(self):\n",
    "        fahrenheit = self.celsius * 9 / 5 + 32\n",
    "        return f\"Temperatue in Fahrenheit from Celsius is {fahrenheit}\"\n",
    "    \n",
    "    def to_kelvin(self):\n",
    "        kelvin = self.celsius + 273.15\n",
    "        return f\"Temperatue in Kelvin from Celsius is {kelvin}\"\n",
    "    \n",
    "\n",
    "celsTemp = Temperature(23.0)\n",
    "\n",
    "print(celsTemp.to_fahrenheit())\n",
    "print(celsTemp.to_kelvin())"
   ]
  },
  {
   "attachments": {},
   "cell_type": "markdown",
   "metadata": {},
   "source": [
    "6. Create a class called Book that has attributes title, author, and publication_year. Add a method get_age that calculates how many years ago the book was published."
   ]
  },
  {
   "cell_type": "code",
   "execution_count": 58,
   "metadata": {},
   "outputs": [
    {
     "name": "stdout",
     "output_type": "stream",
     "text": [
      "5\n",
      "2\n"
     ]
    }
   ],
   "source": [
    "from dataclasses import dataclass\n",
    "from datetime import date\n",
    "\n",
    "\n",
    "@dataclass\n",
    "class Book():\n",
    "    title: str\n",
    "    author: str\n",
    "    publication_year: int\n",
    "\n",
    "    def get_age(self):\n",
    "        current_year = date.today().year\n",
    "        age = current_year - self.publication_year\n",
    "        \n",
    "        return age\n",
    "\n",
    "\n",
    "book1 = Book(\"Data Structures and Algorithms in Python\", \"Michael T. Goodrich\", 2018)\n",
    "book2 = Book(\"Cracking the Coding Interview\", \"Gayle Laakmann McDowell\", 2021)\n",
    "\n",
    "print(book1.get_age())\n",
    "print(book2.get_age())\n",
    "\n",
    "\n",
    "\n",
    "\n",
    "\n",
    "\n"
   ]
  },
  {
   "attachments": {},
   "cell_type": "markdown",
   "metadata": {},
   "source": [
    "7. Create a class called Rectangle that has attributes width and height. Add methods __str__ and __repr__ that return a string representation of the rectangle object."
   ]
  },
  {
   "cell_type": "code",
   "execution_count": 64,
   "metadata": {},
   "outputs": [
    {
     "name": "stdout",
     "output_type": "stream",
     "text": [
      "The width and height of the rectangle are 20 and 30\n",
      "Rectangle(20, 30)\n"
     ]
    }
   ],
   "source": [
    "class Rectangle():\n",
    "    def __init__(self, width, height):\n",
    "        self.width = width\n",
    "        self.height = height\n",
    "\n",
    "    def __str__(self):\n",
    "        return f\"The width and height of the rectangle are {self.width} and {self.height}\"\n",
    "    \n",
    "    def __repr__(self):\n",
    "        return f\"Rectangle({self.width}, {self.height})\"\n",
    "    \n",
    "rectangle = Rectangle(20, 30)\n",
    "\n",
    "print(str(rectangle))\n",
    "print(repr(rectangle))\n",
    "\n"
   ]
  }
 ],
 "metadata": {
  "kernelspec": {
   "display_name": ".venv",
   "language": "python",
   "name": "python3"
  },
  "language_info": {
   "codemirror_mode": {
    "name": "ipython",
    "version": 3
   },
   "file_extension": ".py",
   "mimetype": "text/x-python",
   "name": "python",
   "nbconvert_exporter": "python",
   "pygments_lexer": "ipython3",
   "version": "3.9.13"
  },
  "orig_nbformat": 4
 },
 "nbformat": 4,
 "nbformat_minor": 2
}
