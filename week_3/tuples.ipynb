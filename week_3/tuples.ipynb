{
 "cells": [
  {
   "attachments": {},
   "cell_type": "markdown",
   "metadata": {},
   "source": [
    "1. Write a function to find the most common elements in a tuple."
   ]
  },
  {
   "cell_type": "code",
   "execution_count": 33,
   "metadata": {},
   "outputs": [
    {
     "ename": "IndexError",
     "evalue": "list index out of range",
     "output_type": "error",
     "traceback": [
      "\u001b[0;31m---------------------------------------------------------------------------\u001b[0m",
      "\u001b[0;31mIndexError\u001b[0m                                Traceback (most recent call last)",
      "Cell \u001b[0;32mIn[33], line 19\u001b[0m\n\u001b[1;32m     14\u001b[0m         most_common_element \u001b[39m=\u001b[39m number_frquency_dict[frequency_keys[i]]\n\u001b[1;32m     15\u001b[0m         \u001b[39mprint\u001b[39m(most_common_element)\n\u001b[0;32m---> 19\u001b[0m mossCommonElements(())\n",
      "Cell \u001b[0;32mIn[33], line 14\u001b[0m, in \u001b[0;36mmossCommonElements\u001b[0;34m(tuple_data, frequency)\u001b[0m\n\u001b[1;32m     11\u001b[0m frequency_keys \u001b[39m=\u001b[39m \u001b[39mlist\u001b[39m(number_frquency_dict)[::\u001b[39m-\u001b[39m\u001b[39m1\u001b[39m]\n\u001b[1;32m     13\u001b[0m \u001b[39mfor\u001b[39;00m i \u001b[39min\u001b[39;00m \u001b[39mrange\u001b[39m(frequency):\n\u001b[0;32m---> 14\u001b[0m     most_common_element \u001b[39m=\u001b[39m number_frquency_dict[frequency_keys[i]]\n\u001b[1;32m     15\u001b[0m     \u001b[39mprint\u001b[39m(most_common_element)\n",
      "\u001b[0;31mIndexError\u001b[0m: list index out of range"
     ]
    }
   ],
   "source": [
    "def mossCommonElements(tuple_data, frequency=1):\n",
    "\n",
    "    number_frquency_dict = {}\n",
    "    \n",
    "    unique_elements = sorted(set(tuple_data))\n",
    "\n",
    "    for element in unique_elements:\n",
    "        number_frquency_dict[tuple_data.count(element)] = element\n",
    "\n",
    "\n",
    "    frequency_keys = list(number_frquency_dict)[::-1]\n",
    "\n",
    "    for i in range(frequency):\n",
    "        most_common_element = number_frquency_dict[frequency_keys[i]]\n",
    "        print(most_common_element)\n",
    "\n",
    "   \n",
    "\n",
    "mossCommonElements(())\n",
    "\n"
   ]
  },
  {
   "attachments": {},
   "cell_type": "markdown",
   "metadata": {},
   "source": [
    "2. Write a function to check if a given tuple is a palindrome, meaning the elements are the same in reverse order."
   ]
  },
  {
   "cell_type": "code",
   "execution_count": null,
   "metadata": {},
   "outputs": [],
   "source": []
  },
  {
   "attachments": {},
   "cell_type": "markdown",
   "metadata": {},
   "source": [
    "3. Write a function to find the frequency of elements in a tuple, and return a dictionary mapping each element to its frequency."
   ]
  },
  {
   "cell_type": "code",
   "execution_count": null,
   "metadata": {},
   "outputs": [],
   "source": []
  },
  {
   "attachments": {},
   "cell_type": "markdown",
   "metadata": {},
   "source": [
    "4. Write a function that takes a tuple as an argument and returns a new tuple with only the even elements from the original tuple."
   ]
  },
  {
   "cell_type": "code",
   "execution_count": null,
   "metadata": {},
   "outputs": [],
   "source": []
  },
  {
   "attachments": {},
   "cell_type": "markdown",
   "metadata": {},
   "source": [
    "5. Write a function to find all unique elements in a tuple and return them in a new tuple."
   ]
  }
 ],
 "metadata": {
  "kernelspec": {
   "display_name": "Python 3",
   "language": "python",
   "name": "python3"
  },
  "language_info": {
   "codemirror_mode": {
    "name": "ipython",
    "version": 3
   },
   "file_extension": ".py",
   "mimetype": "text/x-python",
   "name": "python",
   "nbconvert_exporter": "python",
   "pygments_lexer": "ipython3",
   "version": "3.9.13"
  },
  "orig_nbformat": 4,
  "vscode": {
   "interpreter": {
    "hash": "f7a5be651532581cb44625d52e18aa1d390cab54bc6b51099d8c30bea9b68219"
   }
  }
 },
 "nbformat": 4,
 "nbformat_minor": 2
}
