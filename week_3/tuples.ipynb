{
 "cells": [
  {
   "attachments": {},
   "cell_type": "markdown",
   "metadata": {},
   "source": [
    "1. Write a function to find the most common elements in a tuple."
   ]
  },
  {
   "cell_type": "code",
   "execution_count": 61,
   "metadata": {},
   "outputs": [
    {
     "data": {
      "text/plain": [
       "[2, 'APPLE']"
      ]
     },
     "execution_count": 61,
     "metadata": {},
     "output_type": "execute_result"
    }
   ],
   "source": [
    "def get_most_common_elements(tuple_data): \n",
    "    \"\"\"Return the most common elements in a tuple as a list\"\"\"\n",
    "\n",
    "    # converts the tuple to a list; all str are in uppercase\n",
    "    new_tuple_data = list(map(lambda x: x.upper() if isinstance(x, str) else x, tuple_data))\n",
    "    \n",
    "    # assigns unique elements from new_tuple_data\n",
    "    unique_elements = set(new_tuple_data)\n",
    "    \n",
    "    frequency_dict = {}\n",
    "\n",
    "    # stores elements and its counts in frequency_dict\n",
    "    for unique_element in unique_elements:\n",
    "        frequency_dict[unique_element] = new_tuple_data.count(unique_element)   \n",
    "\n",
    "    # assigns most frequency of key value in max_value\n",
    "    max_value = max([value for value in frequency_dict.values()])\n",
    "\n",
    "    # most common elements are obtained as a list\n",
    "    most_common_elements = [key for key, value in frequency_dict.items() if value == max_value]\n",
    "\n",
    "      \n",
    "    \n",
    "    return most_common_elements\n",
    "\n",
    "\n",
    "\n",
    "get_most_common_elements((\"Apple\", \"apple\", \"aPple\", 2, 2, 2, 3))"
   ]
  },
  {
   "attachments": {},
   "cell_type": "markdown",
   "metadata": {},
   "source": [
    "2. Write a function to check if a given tuple is a palindrome, meaning the elements are the same in reverse order."
   ]
  },
  {
   "cell_type": "code",
   "execution_count": 60,
   "metadata": {},
   "outputs": [
    {
     "data": {
      "text/plain": [
       "True"
      ]
     },
     "execution_count": 60,
     "metadata": {},
     "output_type": "execute_result"
    }
   ],
   "source": [
    "def is_tuple_palindrome(tuple_data):\n",
    "    \n",
    "    # returns bool value\n",
    "    return tuple_data == tuple_data[::-1]\n",
    "\n",
    "is_tuple_palindrome(('r', 'a', 'c', 'e', 'c', 'a', 'r'))"
   ]
  },
  {
   "attachments": {},
   "cell_type": "markdown",
   "metadata": {},
   "source": [
    "3. Write a function to find the frequency of elements in a tuple, and return a dictionary mapping each element to its frequency."
   ]
  },
  {
   "cell_type": "code",
   "execution_count": 62,
   "metadata": {},
   "outputs": [
    {
     "data": {
      "text/plain": [
       "{2: 3, 3: 1, 'apple': 1, 'aPple': 1, 'Apple': 1}"
      ]
     },
     "execution_count": 62,
     "metadata": {},
     "output_type": "execute_result"
    }
   ],
   "source": [
    "def get_frequency_of_elements(tuple_data): \n",
    "    \"\"\"Return a dictionary mapping each element to its frequency.\"\"\"\n",
    "\n",
    "      \n",
    "    # assigns unique elements from tuple_data\n",
    "    unique_elements = set(tuple_data)\n",
    "    \n",
    "    freq_dict = {}\n",
    "\n",
    "    # stores elements and its counts in freq_dict\n",
    "    for unique_element in unique_elements:\n",
    "        freq_dict[unique_element] = tuple_data.count(unique_element)   \n",
    "     \n",
    "    \n",
    "    return freq_dict\n",
    "\n",
    "\n",
    "\n",
    "get_frequency_of_elements((\"Apple\", \"apple\", \"aPple\", 2, 2, 2, 3))"
   ]
  },
  {
   "attachments": {},
   "cell_type": "markdown",
   "metadata": {},
   "source": [
    "4. Write a function that takes a tuple as an argument and returns a new tuple with only the even elements from the original tuple."
   ]
  },
  {
   "cell_type": "code",
   "execution_count": 76,
   "metadata": {},
   "outputs": [
    {
     "data": {
      "text/plain": [
       "(2, 4)"
      ]
     },
     "execution_count": 76,
     "metadata": {},
     "output_type": "execute_result"
    }
   ],
   "source": [
    "def get_even_tuple(int_tuple):\n",
    "\n",
    "    even_tuple = tuple(x for x in int_tuple if isinstance(x, int) and x % 2 == 0)\n",
    "\n",
    "    return even_tuple\n",
    "\n",
    "get_even_tuple((1, 2, 3, 4, 5))\n"
   ]
  },
  {
   "attachments": {},
   "cell_type": "markdown",
   "metadata": {},
   "source": [
    "5. Write a function to find all unique elements in a tuple and return them in a new tuple."
   ]
  },
  {
   "cell_type": "code",
   "execution_count": 1,
   "metadata": {},
   "outputs": [
    {
     "data": {
      "text/plain": [
       "(1, 'go', 'start')"
      ]
     },
     "execution_count": 1,
     "metadata": {},
     "output_type": "execute_result"
    }
   ],
   "source": [
    "def get_unique_tuple(tuple_data):\n",
    "\n",
    "    unique_tuple = tuple(set(tuple_data))\n",
    "\n",
    "    return unique_tuple\n",
    "\n",
    "get_unique_tuple((1, 1, 1, \"start\", \"go\"))\n"
   ]
  }
 ],
 "metadata": {
  "kernelspec": {
   "display_name": "Python 3",
   "language": "python",
   "name": "python3"
  },
  "language_info": {
   "codemirror_mode": {
    "name": "ipython",
    "version": 3
   },
   "file_extension": ".py",
   "mimetype": "text/x-python",
   "name": "python",
   "nbconvert_exporter": "python",
   "pygments_lexer": "ipython3",
   "version": "3.10.6"
  },
  "orig_nbformat": 4,
  "vscode": {
   "interpreter": {
    "hash": "f7a5be651532581cb44625d52e18aa1d390cab54bc6b51099d8c30bea9b68219"
   }
  }
 },
 "nbformat": 4,
 "nbformat_minor": 2
}
