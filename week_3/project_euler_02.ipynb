{
 "cells": [
  {
   "attachments": {},
   "cell_type": "markdown",
   "metadata": {},
   "source": [
    "1. \n",
    "\n",
    "Work out the first ten digits of the sum of the following one-hundred 50-digit numbers.\n",
    "\n",
    "37107287533902102798797998220837590246510135740250\n",
    "46376937677490009712648124896970078050417018260538\n",
    "74324986199524741059474233309513058123726617309629\n",
    "91942213363574161572522430563301811072406154908250\n",
    "23067588207539346171171980310421047513778063246676\n",
    "89261670696623633820136378418383684178734361726757\n",
    "28112879812849979408065481931592621691275889832738\n",
    "44274228917432520321923589422876796487670272189318\n",
    "47451445736001306439091167216856844588711603153276\n",
    "70386486105843025439939619828917593665686757934951\n",
    "62176457141856560629502157223196586755079324193331\n",
    "64906352462741904929101432445813822663347944758178\n",
    "92575867718337217661963751590579239728245598838407\n",
    "58203565325359399008402633568948830189458628227828\n",
    "80181199384826282014278194139940567587151170094390\n",
    "35398664372827112653829987240784473053190104293586\n",
    "86515506006295864861532075273371959191420517255829\n",
    "71693888707715466499115593487603532921714970056938\n",
    "54370070576826684624621495650076471787294438377604\n",
    "53282654108756828443191190634694037855217779295145\n",
    "36123272525000296071075082563815656710885258350721\n",
    "45876576172410976447339110607218265236877223636045\n",
    "17423706905851860660448207621209813287860733969412\n",
    "81142660418086830619328460811191061556940512689692\n",
    "51934325451728388641918047049293215058642563049483\n",
    "62467221648435076201727918039944693004732956340691\n",
    "15732444386908125794514089057706229429197107928209\n",
    "55037687525678773091862540744969844508330393682126\n",
    "18336384825330154686196124348767681297534375946515\n",
    "80386287592878490201521685554828717201219257766954\n",
    "78182833757993103614740356856449095527097864797581\n",
    "16726320100436897842553539920931837441497806860984\n",
    "48403098129077791799088218795327364475675590848030\n",
    "87086987551392711854517078544161852424320693150332\n",
    "59959406895756536782107074926966537676326235447210\n",
    "69793950679652694742597709739166693763042633987085\n",
    "41052684708299085211399427365734116182760315001271\n",
    "65378607361501080857009149939512557028198746004375\n",
    "35829035317434717326932123578154982629742552737307\n",
    "94953759765105305946966067683156574377167401875275\n",
    "88902802571733229619176668713819931811048770190271\n",
    "25267680276078003013678680992525463401061632866526\n",
    "36270218540497705585629946580636237993140746255962\n",
    "24074486908231174977792365466257246923322810917141\n",
    "91430288197103288597806669760892938638285025333403\n",
    "34413065578016127815921815005561868836468420090470\n",
    "23053081172816430487623791969842487255036638784583\n",
    "11487696932154902810424020138335124462181441773470\n",
    "63783299490636259666498587618221225225512486764533\n",
    "67720186971698544312419572409913959008952310058822\n",
    "95548255300263520781532296796249481641953868218774\n",
    "76085327132285723110424803456124867697064507995236\n",
    "37774242535411291684276865538926205024910326572967\n",
    "23701913275725675285653248258265463092207058596522\n",
    "29798860272258331913126375147341994889534765745501\n",
    "18495701454879288984856827726077713721403798879715\n",
    "38298203783031473527721580348144513491373226651381\n",
    "34829543829199918180278916522431027392251122869539\n",
    "40957953066405232632538044100059654939159879593635\n",
    "29746152185502371307642255121183693803580388584903\n",
    "41698116222072977186158236678424689157993532961922\n",
    "62467957194401269043877107275048102390895523597457\n",
    "23189706772547915061505504953922979530901129967519\n",
    "86188088225875314529584099251203829009407770775672\n",
    "11306739708304724483816533873502340845647058077308\n",
    "82959174767140363198008187129011875491310547126581\n",
    "97623331044818386269515456334926366572897563400500\n",
    "42846280183517070527831839425882145521227251250327\n",
    "55121603546981200581762165212827652751691296897789\n",
    "32238195734329339946437501907836945765883352399886\n",
    "75506164965184775180738168837861091527357929701337\n",
    "62177842752192623401942399639168044983993173312731\n",
    "32924185707147349566916674687634660915035914677504\n",
    "99518671430235219628894890102423325116913619626622\n",
    "73267460800591547471830798392868535206946944540724\n",
    "76841822524674417161514036427982273348055556214818\n",
    "97142617910342598647204516893989422179826088076852\n",
    "87783646182799346313767754307809363333018982642090\n",
    "10848802521674670883215120185883543223812876952786\n",
    "71329612474782464538636993009049310363619763878039\n",
    "62184073572399794223406235393808339651327408011116\n",
    "66627891981488087797941876876144230030984490851411\n",
    "60661826293682836764744779239180335110989069790714\n",
    "85786944089552990653640447425576083659976645795096\n",
    "66024396409905389607120198219976047599490197230297\n",
    "64913982680032973156037120041377903785566085089252\n",
    "16730939319872750275468906903707539413042652315011\n",
    "94809377245048795150954100921645863754710598436791\n",
    "78639167021187492431995700641917969777599028300699\n",
    "15368713711936614952811305876380278410754449733078\n",
    "40789923115535562561142322423255033685442488917353\n",
    "44889911501440648020369068063960672322193204149535\n",
    "41503128880339536053299340368006977710650566631954\n",
    "81234880673210146739058568557934581403627822703280\n",
    "82616570773948327592232845941706525094512325230608\n",
    "22918802058777319719839450180888072429661980811197\n",
    "77158542502016545090413245809786882778948721859617\n",
    "72107838435069186155435662884062257473692284509516\n",
    "20849603980134001723930671666823555245252804609722\n",
    "53503534226472524250874054075591789781264330331690"
   ]
  },
  {
   "cell_type": "code",
   "execution_count": 68,
   "metadata": {},
   "outputs": [
    {
     "name": "stdout",
     "output_type": "stream",
     "text": [
      "5537376230\n"
     ]
    }
   ],
   "source": [
    "import re\n",
    "\n",
    "my_string = \"\"\"37107287533902102798797998220837590246510135740250 46376937677490009712648124896970078050417018260538 74324986199524741059474233309513058123726617309629 91942213363574161572522430563301811072406154908250 23067588207539346171171980310421047513778063246676 89261670696623633820136378418383684178734361726757 28112879812849979408065481931592621691275889832738 44274228917432520321923589422876796487670272189318 47451445736001306439091167216856844588711603153276 70386486105843025439939619828917593665686757934951 62176457141856560629502157223196586755079324193331 64906352462741904929101432445813822663347944758178 92575867718337217661963751590579239728245598838407 58203565325359399008402633568948830189458628227828 80181199384826282014278194139940567587151170094390 35398664372827112653829987240784473053190104293586 86515506006295864861532075273371959191420517255829 71693888707715466499115593487603532921714970056938 54370070576826684624621495650076471787294438377604 53282654108756828443191190634694037855217779295145 36123272525000296071075082563815656710885258350721 45876576172410976447339110607218265236877223636045 17423706905851860660448207621209813287860733969412 81142660418086830619328460811191061556940512689692 51934325451728388641918047049293215058642563049483 62467221648435076201727918039944693004732956340691 15732444386908125794514089057706229429197107928209 55037687525678773091862540744969844508330393682126 18336384825330154686196124348767681297534375946515 80386287592878490201521685554828717201219257766954 78182833757993103614740356856449095527097864797581 16726320100436897842553539920931837441497806860984 48403098129077791799088218795327364475675590848030 87086987551392711854517078544161852424320693150332 59959406895756536782107074926966537676326235447210 69793950679652694742597709739166693763042633987085 41052684708299085211399427365734116182760315001271 65378607361501080857009149939512557028198746004375 35829035317434717326932123578154982629742552737307 94953759765105305946966067683156574377167401875275 88902802571733229619176668713819931811048770190271 25267680276078003013678680992525463401061632866526 36270218540497705585629946580636237993140746255962 24074486908231174977792365466257246923322810917141 91430288197103288597806669760892938638285025333403 34413065578016127815921815005561868836468420090470 23053081172816430487623791969842487255036638784583 11487696932154902810424020138335124462181441773470 63783299490636259666498587618221225225512486764533 67720186971698544312419572409913959008952310058822 95548255300263520781532296796249481641953868218774 76085327132285723110424803456124867697064507995236 37774242535411291684276865538926205024910326572967 23701913275725675285653248258265463092207058596522 29798860272258331913126375147341994889534765745501 18495701454879288984856827726077713721403798879715 38298203783031473527721580348144513491373226651381 34829543829199918180278916522431027392251122869539 40957953066405232632538044100059654939159879593635 29746152185502371307642255121183693803580388584903 41698116222072977186158236678424689157993532961922 62467957194401269043877107275048102390895523597457 23189706772547915061505504953922979530901129967519 86188088225875314529584099251203829009407770775672 11306739708304724483816533873502340845647058077308 82959174767140363198008187129011875491310547126581 97623331044818386269515456334926366572897563400500 42846280183517070527831839425882145521227251250327 55121603546981200581762165212827652751691296897789 32238195734329339946437501907836945765883352399886 75506164965184775180738168837861091527357929701337 62177842752192623401942399639168044983993173312731 32924185707147349566916674687634660915035914677504 99518671430235219628894890102423325116913619626622 73267460800591547471830798392868535206946944540724 76841822524674417161514036427982273348055556214818 97142617910342598647204516893989422179826088076852 87783646182799346313767754307809363333018982642090 10848802521674670883215120185883543223812876952786 71329612474782464538636993009049310363619763878039 62184073572399794223406235393808339651327408011116 66627891981488087797941876876144230030984490851411 60661826293682836764744779239180335110989069790714 85786944089552990653640447425576083659976645795096 66024396409905389607120198219976047599490197230297 64913982680032973156037120041377903785566085089252 16730939319872750275468906903707539413042652315011 94809377245048795150954100921645863754710598436791 78639167021187492431995700641917969777599028300699 15368713711936614952811305876380278410754449733078 40789923115535562561142322423255033685442488917353 44889911501440648020369068063960672322193204149535 41503128880339536053299340368006977710650566631954 81234880673210146739058568557934581403627822703280 82616570773948327592232845941706525094512325230608 22918802058777319719839450180888072429661980811197 77158542502016545090413245809786882778948721859617 72107838435069186155435662884062257473692284509516 20849603980134001723930671666823555245252804609722 53503534226472524250874054075591789781264330331690\"\"\"\n",
    "\n",
    "\n",
    "pattern = re.compile(r\"\\b\\d+\")\n",
    "\n",
    "matches = pattern.findall(my_string)\n",
    "\n",
    "total = sum(map(int, matches))\n",
    "\n",
    "# prints the first ten digits of the total\n",
    "result = str(total)[:10]\n",
    "\n",
    "print(result)\n"
   ]
  },
  {
   "attachments": {},
   "cell_type": "markdown",
   "metadata": {},
   "source": [
    "2. \n",
    "\n",
    "The following iterative sequence is defined for the set of positive integers:\n",
    "\n",
    "n → n/2 (n is even)\n",
    "n → 3n + 1 (n is odd)\n",
    "\n",
    "Using the rule above and starting with 13, we generate the following sequence:\n",
    "13 → 40 → 20 → 10 → 5 → 16 → 8 → 4 → 2 → 1\n",
    "\n",
    "It can be seen that this sequence (starting at 13 and finishing at 1) contains 10 terms. Although it has not been proved yet (Collatz Problem), it is thought that all starting numbers finish at 1.\n",
    "\n",
    "Which starting number, under one million, produces the longest chain?\n",
    "\n",
    "NOTE: Once the chain starts the terms are allowed to go above one million.\n"
   ]
  },
  {
   "cell_type": "code",
   "execution_count": 32,
   "metadata": {},
   "outputs": [
    {
     "data": {
      "text/plain": [
       "837799"
      ]
     },
     "execution_count": 32,
     "metadata": {},
     "output_type": "execute_result"
    }
   ],
   "source": [
    "def collatz_sequence(n):\n",
    "    terms_count = 1\n",
    "    while n > 1:\n",
    "        if n % 2 == 0:\n",
    "            n = n / 2\n",
    "            terms_count += 1\n",
    "\n",
    "        else:\n",
    "            n = 3 * n + 1\n",
    "            terms_count += 1\n",
    "\n",
    "    return terms_count\n",
    "\n",
    "\n",
    "def get_largest_sequenced_number(number):\n",
    "    max_count = 1\n",
    "    max_number = number\n",
    "\n",
    "    while number < 1000000:\n",
    "        if collatz_sequence(number) > max_count:\n",
    "            max_count = collatz_sequence(number)\n",
    "            max_number = number\n",
    "\n",
    "        number += 1\n",
    "\n",
    "    return max_number\n",
    "\n",
    "\n",
    "get_largest_sequenced_number(1)"
   ]
  },
  {
   "attachments": {},
   "cell_type": "markdown",
   "metadata": {},
   "source": [
    "3. \n",
    "\n",
    "2^15 = 32768 and the sum of its digits is 3 + 2 + 7 + 6 + 8 = 26.\n",
    "\n",
    "What is the sum of the digits of the number 2^1000?\n"
   ]
  },
  {
   "cell_type": "code",
   "execution_count": 37,
   "metadata": {},
   "outputs": [
    {
     "data": {
      "text/plain": [
       "1366"
      ]
     },
     "execution_count": 37,
     "metadata": {},
     "output_type": "execute_result"
    }
   ],
   "source": [
    "def sum_of_digits(number):\n",
    "    total = sum(map(int, str(number)))\n",
    "\n",
    "    return total\n",
    "\n",
    "\n",
    "sum_of_digits(2 ** 1000)"
   ]
  },
  {
   "attachments": {},
   "cell_type": "markdown",
   "metadata": {},
   "source": [
    "4. \n",
    "\n",
    "If the numbers 1 to 5 are written out in words: one, two, three, four, five, then there are 3 + 3 + 5 + 4 + 4 = 19 letters used in total.\n",
    "\n",
    "If all the numbers from 1 to 1000 (one thousand) inclusive were written out in words, how many letters would be used?\n",
    "\n",
    "NOTE: Do not count spaces or hyphens. For example, 342 (three hundred and forty-two) contains 23 letters and 115 (one hundred and fifteen) contains 20 letters. The use of \"and\" when writing out numbers is in compliance with British usage.\n",
    "\n",
    "\n",
    "\n",
    "\n",
    "\n",
    "\n",
    "\n",
    "\n",
    "\n",
    "\n",
    "\n",
    "\n",
    "\n",
    "\n",
    "\n",
    "\n",
    "\n",
    "\n",
    "\n",
    "\n",
    "\n"
   ]
  },
  {
   "cell_type": "code",
   "execution_count": 50,
   "metadata": {},
   "outputs": [
    {
     "data": {
      "text/plain": [
       "'unexpected input: out of range'"
      ]
     },
     "execution_count": 50,
     "metadata": {},
     "output_type": "execute_result"
    }
   ],
   "source": [
    "def convert_number_to_words(number):\n",
    "\n",
    "    try:\n",
    "\n",
    "        # number in words\n",
    "        # for ones\n",
    "        ones = [\"zero\", \"one\", \"two\", \"three\", \"four\", \"five\", \"six\", \"seven\", \"eight\", \"nine\", \"ten\", \"eleven\", \"twelve\",\n",
    "                \"thirteen\", \"fourteen\", \"fifteen\", \"sixteen\", \"seventeen\", \"eighteen\", \"nineteen\"]\n",
    "\n",
    "        # for tens \n",
    "        tens = [None, None, \"twenty\", \"thirty\", \"forty\", \"fifty\", \"sixty\", \"seventy\", \"eighty\", \"ninety\"]\n",
    "\n",
    "        if 0 <= number < 20 :\n",
    "            return ones[number]\n",
    "        elif 20 <= number <= 90 and number % 10 == 0:\n",
    "            return tens[number // 10]\n",
    "        elif 20 < number < 100 :\n",
    "            return f\"{tens[number // 10]}-{ones[number % 10]}\"\n",
    "        elif 100 <= number <= 900 and number % 100 == 0:\n",
    "            return f\"{ones[number // 100]} hundred\"\n",
    "        elif 100 < number < 1000 :\n",
    "            return f\"{ones[number // 100]} hundred and {convert_number_to_words(number % 100)}\"\n",
    "        elif number == 1000 :\n",
    "            return \"one thousand\"\n",
    "        \n",
    "        else :\n",
    "            raise ValueError\n",
    "    except ValueError :\n",
    "        print(\"unexpected input - out of range\") \n",
    "    except TypeError:\n",
    "        print(\"Invalid input\")\n",
    "\n",
    "def count_letters_number_words(limit):\n",
    "    \n",
    "    count = 0\n",
    "\n",
    "    try:\n",
    "        if limit <= 1000 :\n",
    "\n",
    "            for i in range(1, limit + 1) :\n",
    "\n",
    "                words = convert_number_to_words(i).replace(\" \", \"\").replace(\"-\", \"\")\n",
    "                \n",
    "                count += len(words)\n",
    "\n",
    "            return count\n",
    "        elif limit > 1000:\n",
    "            raise ValueError\n",
    "\n",
    "    except ValueError :\n",
    "        return \"unexpected input: out of range\"  \n",
    "    except TypeError:\n",
    "        return \"Invalid input\" \n",
    "\n",
    "count_letters_number_words(10001)\n",
    "\n",
    "\n"
   ]
  },
  {
   "attachments": {},
   "cell_type": "markdown",
   "metadata": {},
   "source": [
    "5. \n",
    "\n",
    "You are given the following information, but you may prefer to do some research for yourself.\n",
    "\n",
    "    1 Jan 1900 was a Monday.\n",
    "    Thirty days has September,\n",
    "    April, June and November.\n",
    "    All the rest have thirty-one,\n",
    "    Saving February alone,\n",
    "    Which has twenty-eight, rain or shine.\n",
    "    And on leap years, twenty-nine.\n",
    "    A leap year occurs on any year evenly divisible by 4, but not on a century unless it is divisible by 400.\n",
    "\n",
    "How many Sundays fell on the first of the month during the twentieth century (1 Jan 1901 to 31 Dec 2000)?\n"
   ]
  },
  {
   "cell_type": "code",
   "execution_count": 1,
   "metadata": {},
   "outputs": [
    {
     "name": "stdout",
     "output_type": "stream",
     "text": [
      "171\n"
     ]
    }
   ],
   "source": [
    "def get_days_in_month(year, month):\n",
    "    # returns days of a given month in a given year\n",
    "\n",
    "    # returns numbers of days if month number in the list below\n",
    "    if month in [4, 6, 9, 11]:\n",
    "        return 30\n",
    "    # returns days in Feb depends on whether the year is leap or not\n",
    "    if month == 2:\n",
    "        if year % 2 == 0 and (year % 100 != 0 or year % 100 != 0):\n",
    "            return 29\n",
    "        # returns days in Feb if the year is leap\n",
    "        else:\n",
    "            return 28\n",
    "    # return days in the month if the month is not in above\n",
    "    return 31\n",
    "\n",
    "\n",
    "year = 1900\n",
    "month = 1\n",
    "no_of_days = 7\n",
    "sunday_on_first = 0\n",
    "\n",
    "\n",
    "while year <= 2000 and month <= 12 and no_of_days <= 31:\n",
    "    days_in_month = get_days_in_month(year, month)\n",
    "\n",
    "    # counts first of the month is sunday\n",
    "\n",
    "    # As the day number of Sunday is 7, if the result of the substraction between the no_of_days from the days_in_month is 1.\n",
    "\n",
    "    if no_of_days == 1 and year > 1900:\n",
    "        sunday_on_first += 1\n",
    "\n",
    "    # days are increamented by 7\n",
    "    no_of_days += 7\n",
    "\n",
    "    # Gives start day of the month\n",
    "    if no_of_days > days_in_month:\n",
    "        no_of_days -= days_in_month\n",
    "\n",
    "        # increament the month\n",
    "        month += 1\n",
    "        # resets month, increaments year\n",
    "        if month == 13:\n",
    "            year += 1\n",
    "            month = 1\n",
    "\n",
    "print(sunday_on_first)\n"
   ]
  },
  {
   "attachments": {},
   "cell_type": "markdown",
   "metadata": {},
   "source": [
    "6. \n",
    "\n",
    "n! means n × (n − 1) × ... × 3 × 2 × 1\n",
    "\n",
    "For example, 10! = 10 × 9 × ... × 3 × 2 × 1 = 3628800,\n",
    "and the sum of the digits in the number 10! is 3 + 6 + 2 + 8 + 8 + 0 + 0 = 27.\n",
    "\n",
    "Find the sum of the digits in the number 100!\n"
   ]
  },
  {
   "cell_type": "code",
   "execution_count": 7,
   "metadata": {},
   "outputs": [
    {
     "data": {
      "text/plain": [
       "648"
      ]
     },
     "execution_count": 7,
     "metadata": {},
     "output_type": "execute_result"
    }
   ],
   "source": [
    "def factorial(n):\n",
    "    # returns the value of the factorial of a given number\n",
    "    if n == 0:  # condition for break recursion\n",
    "        return 1\n",
    "\n",
    "    return n * factorial(n - 1)\n",
    "\n",
    "\n",
    "def sum_digits_in_factorial(n):\n",
    "    digits = factorial(n)\n",
    "    # sums the digits in the value of the factorial of a number\n",
    "    sum_digits = sum(map(int, str(digits)))\n",
    "\n",
    "    return sum_digits\n",
    "\n",
    "\n",
    "sum_digits_in_factorial(100)"
   ]
  },
  {
   "attachments": {},
   "cell_type": "markdown",
   "metadata": {},
   "source": [
    "7. \n",
    "\n",
    "Let d(n) be defined as the sum of proper divisors of n (numbers less than n which divide evenly into n).\n",
    "If d(a) = b and d(b) = a, where a ≠ b, then a and b are an amicable pair and each of a and b are called amicable numbers.\n",
    "\n",
    "For example, the proper divisors of 220 are 1, 2, 4, 5, 10, 11, 20, 22, 44, 55 and 110; therefore d(220) = 284. The proper divisors of 284 are 1, 2, 4, 71 and 142; so d(284) = 220.\n",
    "\n",
    "Evaluate the sum of all the amicable numbers under 10000.\n"
   ]
  },
  {
   "cell_type": "code",
   "execution_count": 52,
   "metadata": {},
   "outputs": [
    {
     "data": {
      "text/plain": [
       "31626"
      ]
     },
     "execution_count": 52,
     "metadata": {},
     "output_type": "execute_result"
    }
   ],
   "source": [
    "def sum_factors(n):\n",
    "#     returns sum of factors\n",
    "\n",
    "    factors_set = {1}\n",
    "\n",
    "    for i in range(2, int((n ** 0.5)) + 1):\n",
    "         if n % i == 0:\n",
    "              factors_set.update((i, n // i))\n",
    "\n",
    "    factors_set # removes n from factors set\n",
    "\n",
    "    return sum(factors_set)\n",
    "\n",
    "\n",
    "def sum_of_amicable_numbers(limit):\n",
    "\n",
    "     # returns sum of all amicable numbers less than the limit\n",
    "     \n",
    "     i = 1\n",
    "     \n",
    "     factors_set = set()\n",
    "\n",
    "     while i < limit:\n",
    "          a = sum_factors(i)\n",
    "          b = sum_factors(a)\n",
    "\n",
    "          # adds factors to factors_set if the condtions satisfied\n",
    "          if (i == b) and (a != b):\n",
    "               factors_set.add(b) \n",
    "\n",
    "          i += 1\n",
    "\n",
    "     return sum(factors_set)\n",
    "\n",
    "\n",
    "          \n",
    "sum_of_amicable_numbers(10000)\n",
    "\n"
   ]
  },
  {
   "attachments": {},
   "cell_type": "markdown",
   "metadata": {},
   "source": [
    "8. \n",
    "\n",
    "A perfect number is a number for which the sum of its proper divisors is exactly equal to the number. For example, the sum of the proper divisors of 28 would be 1 + 2 + 4 + 7 + 14 = 28, which means that 28 is a perfect number.\n",
    "\n",
    "A number n is called deficient if the sum of its proper divisors is less than n and it is called abundant if this sum exceeds n.\n",
    "\n",
    "As 12 is the smallest abundant number, 1 + 2 + 3 + 4 + 6 = 16, the smallest number that can be written as the sum of two abundant numbers is 24. By mathematical analysis, it can be shown that all integers greater than 28123 can be written as the sum of two abundant numbers. However, this upper limit cannot be reduced any further by analysis even though it is known that the greatest number that cannot be expressed as the sum of two abundant numbers is less than this limit.\n",
    "\n",
    "Find the sum of all the positive integers which cannot be written as the sum of two abundant numbers.\n"
   ]
  },
  {
   "cell_type": "code",
   "execution_count": 57,
   "metadata": {},
   "outputs": [
    {
     "name": "stdout",
     "output_type": "stream",
     "text": [
      "4179871\n"
     ]
    }
   ],
   "source": [
    "def is_abundant(n):\n",
    "    factors_set = {1}\n",
    "\n",
    "    for i in range(2, int((n**0.5)) + 1):\n",
    "        if n % i == 0:\n",
    "            factors_set.update((i, n // i))\n",
    "\n",
    "    return sum(factors_set) > n\n",
    "\n",
    "\n",
    "# abundant numbers list\n",
    "abn_nums = [i for i in range(12, 28124) if is_abundant(i)]\n",
    "\n",
    "abn_nums_sum_set = set()\n",
    "\n",
    "for i in abn_nums:\n",
    "    for j in abn_nums:\n",
    "        abn_sum = i + j\n",
    "\n",
    "        if abn_sum > 28123:\n",
    "            break\n",
    "        else:\n",
    "            abn_nums_sum_set.add(abn_sum)\n",
    "\n",
    "\n",
    "# non-abundant numbers list\n",
    "\n",
    "non_abn_nums = [k for k in range(28124) if k not in abn_nums_sum_set]\n",
    "\n",
    "# sum of all non_abn_nums under 28123\n",
    "\n",
    "print(sum(non_abn_nums))\n"
   ]
  },
  {
   "attachments": {},
   "cell_type": "markdown",
   "metadata": {},
   "source": [
    "9. \n",
    "\n",
    "A permutation is an ordered arrangement of objects. For example, 3124 is one possible permutation of the digits 1, 2, 3 and 4. If all of the permutations are listed numerically or alphabetically, we call it lexicographic order. The lexicographic permutations of 0, 1 and 2 are:\n",
    "\n",
    "012   021   102   120   201   210\n",
    "\n",
    "What is the millionth lexicographic permutation of the digits 0, 1, 2, 3, 4, 5, 6, 7, 8 and 9?\n"
   ]
  },
  {
   "cell_type": "code",
   "execution_count": 22,
   "metadata": {},
   "outputs": [
    {
     "name": "stdout",
     "output_type": "stream",
     "text": [
      "2783915460\n"
     ]
    }
   ],
   "source": [
    "from math import factorial\n",
    "\n",
    "# Lehmer code is used to calculate nth permutation of distinct digits\n",
    "\n",
    "# digits available for permutation\n",
    "digits = list(range(10))\n",
    "\n",
    "# stores the digit that permuted\n",
    "permuted_digits = []\n",
    "\n",
    "permutations = 999999\n",
    "\n",
    "\n",
    "while True:\n",
    "    digits_remain = len(digits) - 1\n",
    "\n",
    "    # represents the index to get the number that permuted millionth\n",
    "    # from the list of digits\n",
    "    indx = permutations // factorial(digits_remain)\n",
    "\n",
    "    # remainder represent the permutation for the remaining digits\n",
    "    remainder = permutations % factorial(digits_remain)\n",
    "\n",
    "    permutations = remainder\n",
    "\n",
    "    # appends the permuted millionth in the permuted list\n",
    "    permuted_digits.append(digits[indx])\n",
    "\n",
    "    # remove the already permuted digits from the list of digits\n",
    "    digits.pop(indx)\n",
    "\n",
    "    # if there is no more digits to permute, the loop ends\n",
    "\n",
    "    if digits_remain == 0:\n",
    "        break\n",
    "\n",
    "# join permuted digits for millionth permuted digits\n",
    "digits_permuted_millionth = int(\"\".join(map(str, permuted_digits)))\n",
    "\n",
    "print(digits_permuted_millionth)\n"
   ]
  },
  {
   "attachments": {},
   "cell_type": "markdown",
   "metadata": {},
   "source": [
    "10. \n",
    "\n",
    "A unit fraction contains 1 in the numerator. The decimal representation of the unit fractions with denominators 2 to 10 are given:\n",
    "\n",
    "    1/2\t= \t0.5\n",
    "    1/3\t= \t0.(3)\n",
    "    1/4\t= \t0.25\n",
    "    1/5\t= \t0.2\n",
    "    1/6\t= \t0.1(6)\n",
    "    1/7\t= \t0.(142857)\n",
    "    1/8\t= \t0.125\n",
    "    1/9\t= \t0.(1)\n",
    "    1/10\t= \t0.1 \n",
    "\n",
    "Where 0.1(6) means 0.166666..., and has a 1-digit recurring cycle. It can be seen that 1/7 has a 6-digit recurring cycle.\n",
    "\n",
    "Find the value of d < 1000 for which 1/d contains the longest recurring cycle in its decimal fraction part.\n"
   ]
  },
  {
   "cell_type": "code",
   "execution_count": 6,
   "metadata": {},
   "outputs": [
    {
     "name": "stdout",
     "output_type": "stream",
     "text": [
      "983\n"
     ]
    }
   ],
   "source": [
    "# initialize the variable \"number\" to store number\n",
    "# that has the longest recurring cycle\n",
    "number = 1\n",
    "\n",
    "# represent the length of the recurring cycle\n",
    "length_of_repetend = 1\n",
    "\n",
    "# checks only for odd numbers as the even numbers don't give any reptend\n",
    "\n",
    "for i in range(3, 1000, 2):\n",
    "    # checks i is divisble by 5, because any number that is multiple\n",
    "    # of 5, that 1 / i will leave repetend length of 1, so it need not\n",
    "    # to be checked further, skiped for next iteration\n",
    "    if i % 5 == 0:\n",
    "        continue\n",
    "\n",
    "    # initialize repetend length\n",
    "    p = 1\n",
    "\n",
    "    # the length of recurring cycle is order of 10 modulo i\n",
    "    while pow(10, p) % i != 1:\n",
    "        p += 1\n",
    "\n",
    "    # stores length  of repetend, and the corresponding divisor\n",
    "    if p > length_of_repetend:\n",
    "        length_of_repetend = p\n",
    "        number = i\n",
    "\n",
    "print(number)       "
   ]
  }
 ],
 "metadata": {
  "kernelspec": {
   "display_name": "Python 3 (ipykernel)",
   "language": "python",
   "name": "python3"
  },
  "language_info": {
   "codemirror_mode": {
    "name": "ipython",
    "version": 3
   },
   "file_extension": ".py",
   "mimetype": "text/x-python",
   "name": "python",
   "nbconvert_exporter": "python",
   "pygments_lexer": "ipython3",
   "version": "3.10.6"
  },
  "vscode": {
   "interpreter": {
    "hash": "f7a5be651532581cb44625d52e18aa1d390cab54bc6b51099d8c30bea9b68219"
   }
  }
 },
 "nbformat": 4,
 "nbformat_minor": 2
}
