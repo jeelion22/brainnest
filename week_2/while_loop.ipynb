{
 "cells": [
  {
   "cell_type": "markdown",
   "metadata": {},
   "source": [
    "1. Create a while loop that repeatedly takes user input and adds the input to a list until the user enters \"done\"."
   ]
  },
  {
   "cell_type": "code",
   "execution_count": 2,
   "metadata": {
    "vscode": {
     "languageId": "plaintext"
    }
   },
   "outputs": [
    {
     "name": "stdout",
     "output_type": "stream",
     "text": [
      "Enter something until you enter 'done': H\n",
      "Enter something until you enter 'done': e\n",
      "Enter something until you enter 'done': l\n",
      "Enter something until you enter 'done': l\n",
      "Enter something until you enter 'done': o\n",
      "Enter something until you enter 'done': World\n",
      "Enter something until you enter 'done': done\n",
      "['H', 'e', 'l', 'l', 'o', 'World']\n"
     ]
    }
   ],
   "source": [
    "inp_lst = []\n",
    "\n",
    "while True :\n",
    "    inp = input(\"Enter something until you enter 'done': \")\n",
    "    if inp == \"done\":\n",
    "        break\n",
    "        \n",
    "    inp_lst.append(inp)\n",
    "       \n",
    "print(inp_lst)\n",
    "\n",
    "        "
   ]
  },
  {
   "cell_type": "markdown",
   "metadata": {},
   "source": [
    "2. Create a while loop that generates random numbers and adds them to a list until the sum of all numbers in the list is greater than 100."
   ]
  },
  {
   "cell_type": "code",
   "execution_count": 3,
   "metadata": {
    "vscode": {
     "languageId": "plaintext"
    }
   },
   "outputs": [
    {
     "name": "stdout",
     "output_type": "stream",
     "text": [
      "[97, 63]\n"
     ]
    }
   ],
   "source": [
    "import random\n",
    "\n",
    "num_lst = []\n",
    "total = 0\n",
    "\n",
    "while True:\n",
    "    rand_num = random.randint(0, 100)\n",
    "\n",
    "    total += rand_num\n",
    "    num_lst.append(rand_num)\n",
    "\n",
    "    if total > 100:\n",
    "        break\n",
    "\n",
    "\n",
    "print(num_lst)   "
   ]
  },
  {
   "cell_type": "markdown",
   "metadata": {},
   "source": [
    "3. Create a while loop that repeatedly takes user input and appends it to a list, but only if the input is a unique string."
   ]
  },
  {
   "cell_type": "code",
   "execution_count": 6,
   "metadata": {
    "vscode": {
     "languageId": "plaintext"
    }
   },
   "outputs": [
    {
     "name": "stdout",
     "output_type": "stream",
     "text": [
      "Enter a string: p\n",
      "Enter a string: y\n",
      "Enter a string: t\n",
      "Enter a string: h\n",
      "Enter a string: o\n",
      "Enter a string: n\n",
      "Enter a string: n\n",
      "['p', 'y', 't', 'h', 'o', 'n']\n"
     ]
    }
   ],
   "source": [
    "uniq_str = []\n",
    "\n",
    "while True:\n",
    "    inp = input(\"Enter a string: \")\n",
    "\n",
    "    if inp not in uniq_str:\n",
    "        uniq_str.append(inp)\n",
    "\n",
    "    else:\n",
    "        break\n",
    "\n",
    "print(uniq_str)  "
   ]
  },
  {
   "cell_type": "markdown",
   "metadata": {},
   "source": [
    "4. Create a while loop that repeatedly takes user input and appends it to a list, but only if the input is a number greater than 10."
   ]
  },
  {
   "cell_type": "code",
   "execution_count": 7,
   "metadata": {
    "vscode": {
     "languageId": "plaintext"
    }
   },
   "outputs": [
    {
     "name": "stdout",
     "output_type": "stream",
     "text": [
      "Enter a number: 10.5\n",
      "Enter a number: 56\n",
      "Enter a number: 19\n",
      "Enter a number: 75\n",
      "Enter a number: 35\n",
      "Enter a number: '15'\n",
      "Only numbers are allowed. Try again.\n",
      "Enter a number: @\n",
      "Only numbers are allowed. Try again.\n",
      "Enter a number: 10\n",
      "['10.5', '56', '19', '75', '35']\n"
     ]
    }
   ],
   "source": [
    "nums_gt_10 = []\n",
    "\n",
    "while True:\n",
    "    inp = input(\"Enter a number: \")\n",
    "\n",
    "    try:\n",
    "        if float(inp) > 10:\n",
    "            nums_gt_10.append(inp)\n",
    "\n",
    "        else:\n",
    "            break\n",
    "\n",
    "    except ValueError:\n",
    "        print(\"Only numbers are allowed. Try again.\")\n",
    "\n",
    "print(nums_gt_10)"
   ]
  },
  {
   "cell_type": "markdown",
   "metadata": {},
   "source": [
    "5. Create a while loop that repeatedly takes user input and keeps track of the highest number entered until the user enters \"done\"."
   ]
  },
  {
   "cell_type": "code",
   "execution_count": 11,
   "metadata": {
    "vscode": {
     "languageId": "plaintext"
    }
   },
   "outputs": [
    {
     "name": "stdout",
     "output_type": "stream",
     "text": [
      "Enter a number until you enter 'done': 12\n",
      "Enter a number until you enter 'done': 56\n",
      "Enter a number until you enter 'done': 89\n",
      "Enter a number until you enter 'done': eight\n",
      "Invalid input. Only numbers are allowed\n",
      "Enter a number until you enter 'done': -89\n",
      "Enter a number until you enter 'done': done\n",
      "89\n"
     ]
    }
   ],
   "source": [
    "highest_numb = None\n",
    "\n",
    "while True:\n",
    "    usr_inp = input(\"Enter a number until you enter 'done': \")\n",
    "\n",
    "    if usr_inp == \"done\":\n",
    "        break\n",
    "\n",
    "    try:\n",
    "        if float(usr_inp) and (highest_numb is None or usr_inp > highest_numb):\n",
    "            highest_numb = usr_inp\n",
    "\n",
    "    except ValueError:\n",
    "        print(\"Invalid input. Only numbers are allowed\")\n",
    "\n",
    "print(highest_numb)    "
   ]
  },
  {
   "cell_type": "code",
   "execution_count": null,
   "metadata": {},
   "outputs": [],
   "source": []
  },
  {
   "cell_type": "code",
   "execution_count": null,
   "metadata": {},
   "outputs": [],
   "source": []
  }
 ],
 "metadata": {
  "kernelspec": {
   "display_name": "Python 3 (ipykernel)",
   "language": "python",
   "name": "python3"
  },
  "language_info": {
   "codemirror_mode": {
    "name": "ipython",
    "version": 3
   },
   "file_extension": ".py",
   "mimetype": "text/x-python",
   "name": "python",
   "nbconvert_exporter": "python",
   "pygments_lexer": "ipython3",
   "version": "3.9.13"
  }
 },
 "nbformat": 4,
 "nbformat_minor": 2
}
