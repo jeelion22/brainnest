{
 "cells": [
  {
   "cell_type": "markdown",
   "metadata": {},
   "source": [
    "1. Create a for loop that iterates through a list of strings and prints each string in uppercase."
   ]
  },
  {
   "cell_type": "code",
   "execution_count": 5,
   "metadata": {},
   "outputs": [
    {
     "name": "stdout",
     "output_type": "stream",
     "text": [
      "INDIA\n",
      "RUSIA\n",
      "GERMANY\n",
      "CHINA\n"
     ]
    }
   ],
   "source": [
    "countries = ['India', 'Rusia', 'Germany', 'China']\n",
    "\n",
    "for country in countries:    \n",
    "    upper_case = country.upper()    \n",
    "    print(upper_case)\n",
    "    "
   ]
  },
  {
   "cell_type": "markdown",
   "metadata": {},
   "source": [
    "2. Create a for loop that iterates through a list of numbers and prints the square of each number."
   ]
  },
  {
   "cell_type": "code",
   "execution_count": 6,
   "metadata": {},
   "outputs": [
    {
     "name": "stdout",
     "output_type": "stream",
     "text": [
      "1\n",
      "6.25\n",
      "9\n"
     ]
    }
   ],
   "source": [
    "num_lst = [1, 2.5, 3]\n",
    "\n",
    "for num in num_lst:    \n",
    "    num_sqr = num**2    \n",
    "    print(num_sqr)"
   ]
  },
  {
   "cell_type": "markdown",
   "metadata": {},
   "source": [
    "3. Create a for loop that iterates through a list of dictionaries and prints the value of a specified key for each dictionary."
   ]
  },
  {
   "cell_type": "code",
   "execution_count": 20,
   "metadata": {},
   "outputs": [
    {
     "name": "stdout",
     "output_type": "stream",
     "text": [
      "harry\n",
      "shri\n"
     ]
    }
   ],
   "source": [
    "kids_detail = [\n",
    "    {\"name\": \"harry\", \"gender\": \"male\", \"age\": 9, \"education\": \"Grade III\"},\n",
    "    {\"name\": \"shri\", \"gender\": \"female\", \"age\": 15, \"blood_group\": \"O+\"},\n",
    "]\n",
    "\n",
    "info_needed = \"name\"\n",
    "\n",
    "for kid_info in kids_detail:\n",
    "    if info_needed in kid_info:\n",
    "        print(kid_info[info_needed])\n",
    "\n",
    "    else:\n",
    "        print(f\"The {info_needed} key is not found.\")\n",
    "\n",
    "\n",
    "\n",
    "    "
   ]
  },
  {
   "cell_type": "markdown",
   "metadata": {},
   "source": [
    "4. Create a for loop that iterates through a list of numbers and prints the largest number in the list."
   ]
  },
  {
   "cell_type": "code",
   "execution_count": 12,
   "metadata": {},
   "outputs": [
    {
     "name": "stdout",
     "output_type": "stream",
     "text": [
      "82\n"
     ]
    }
   ],
   "source": [
    "num_lst = [58, 8, 82, 6, 75, 63]\n",
    "\n",
    "largest = None\n",
    "\n",
    "for num in num_lst:\n",
    "    if largest is None or num > largest:\n",
    "        largest = num\n",
    "        \n",
    "print(largest)        \n",
    "    \n"
   ]
  },
  {
   "cell_type": "markdown",
   "metadata": {},
   "source": [
    "5. Create a for loop that iterates through a list of lists and prints the sum of the elements in each sub-list."
   ]
  },
  {
   "cell_type": "code",
   "execution_count": 30,
   "metadata": {},
   "outputs": [
    {
     "name": "stdout",
     "output_type": "stream",
     "text": [
      "45\n",
      "184\n",
      "68\n",
      "173\n"
     ]
    }
   ],
   "source": [
    "\n",
    "nest_lst = [[10, 35], [93, 15, 76], [68], [61, 12, 99, 1]]\n",
    "\n",
    "for item in nest_lst:\n",
    "    sum_item = sum(item)\n",
    "    \n",
    "    print(sum_item)\n",
    "    "
   ]
  },
  {
   "cell_type": "code",
   "execution_count": null,
   "metadata": {},
   "outputs": [],
   "source": []
  }
 ],
 "metadata": {
  "kernelspec": {
   "display_name": "Python 3 (ipykernel)",
   "language": "python",
   "name": "python3"
  },
  "language_info": {
   "codemirror_mode": {
    "name": "ipython",
    "version": 3
   },
   "file_extension": ".py",
   "mimetype": "text/x-python",
   "name": "python",
   "nbconvert_exporter": "python",
   "pygments_lexer": "ipython3",
   "version": "3.9.13"
  }
 },
 "nbformat": 4,
 "nbformat_minor": 2
}
