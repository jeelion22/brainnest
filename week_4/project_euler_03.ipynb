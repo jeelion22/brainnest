{
 "cells": [
  {
   "attachments": {},
   "cell_type": "markdown",
   "metadata": {},
   "source": [
    "1. \n",
    "\n",
    "In the United Kingdom the currency is made up of pound (£) and pence (p). There are eight coins in general circulation:\n",
    "\n",
    "    1p, 2p, 5p, 10p, 20p, 50p, £1 (100p), and £2 (200p).\n",
    "\n",
    "It is possible to make £2 in the following way:\n",
    "\n",
    "    1×£1 + 1×50p + 2×20p + 1×5p + 1×2p + 3×1p\n",
    "\n",
    "How many different ways can £2 be made using any number of coins?\n"
   ]
  },
  {
   "cell_type": "code",
   "execution_count": 7,
   "metadata": {},
   "outputs": [
    {
     "name": "stdout",
     "output_type": "stream",
     "text": [
      "Ways to make change = 73682\n"
     ]
    }
   ],
   "source": [
    "\n",
    "\n",
    "\n",
    "\n",
    "\n",
    "\n",
    "\n"
   ]
  },
  {
   "attachments": {},
   "cell_type": "markdown",
   "metadata": {},
   "source": [
    "2. \n",
    "\n",
    "We shall say that an n-digit number is pandigital if it makes use of all the digits 1 to n exactly once; for example, the 5-digit number, 15234, is 1 through 5 pandigital.\n",
    "\n",
    "The product 7254 is unusual, as the identity, 39 × 186 = 7254, containing multiplicand, multiplier, and product is 1 through 9 pandigital.\n",
    "\n",
    "Find the sum of all products whose multiplicand/multiplier/product identity can be written as a 1 through 9 pandigital.\n",
    "HINT: Some products can be obtained in more than one way so be sure to only include it once in your sum.\n"
   ]
  },
  {
   "cell_type": "code",
   "execution_count": 6,
   "metadata": {},
   "outputs": [
    {
     "name": "stdout",
     "output_type": "stream",
     "text": [
      "45228\n"
     ]
    }
   ],
   "source": [
    "# set contains products\n",
    "product_set = set()\n",
    "\n",
    "pan_digits = set(\"123456789\")\n",
    "\n",
    "# for single digit multiplicand\n",
    "for multiplicand in range(1, 10):\n",
    "    for multiplier in range(1000, 10000):\n",
    "        product = multiplicand * multiplier\n",
    "\n",
    "        # group all digits\n",
    "        digits = str(multiplicand) + str(multiplier) + str(product)\n",
    "\n",
    "        if len(digits) == 9 and set(digits) == pan_digits:\n",
    "            product_set.add(product)\n",
    "\n",
    "        elif len(digits) > 9:\n",
    "            break\n",
    "\n",
    "# for double digit multiplicand\n",
    "for multiplicand in range(10, 100):\n",
    "    for multiplier in range(10, 10000):\n",
    "        product = multiplicand * multiplier\n",
    "\n",
    "        # group all digits\n",
    "        digits = str(multiplicand) + str(multiplier) + str(product)\n",
    "\n",
    "        if len(digits) == 9 and set(digits) == pan_digits:\n",
    "            product_set.add(product)\n",
    "\n",
    "        elif len(digits) > 9:\n",
    "            break\n",
    "\n",
    "sum_of_products = sum(product_set)\n",
    "\n",
    "print(sum_of_products)"
   ]
  },
  {
   "attachments": {},
   "cell_type": "markdown",
   "metadata": {},
   "source": [
    "3. \n",
    "\n",
    "The fraction 49/98 is a curious fraction, as an inexperienced mathematician in attempting to simplify it may incorrectly believe that 49/98 = 4/8, which is correct, is obtained by cancelling the 9s.\n",
    "\n",
    "We shall consider fractions like, 30/50 = 3/5, to be trivial examples.\n",
    "\n",
    "There are exactly four non-trivial examples of this type of fraction, less than one in value, and containing two digits in the numerator and denominator.\n",
    "\n",
    "If the product of these four fractions is given in its lowest common terms, find the value of the denominator.\n"
   ]
  },
  {
   "cell_type": "code",
   "execution_count": 4,
   "metadata": {},
   "outputs": [
    {
     "data": {
      "text/plain": [
       "100"
      ]
     },
     "execution_count": 4,
     "metadata": {},
     "output_type": "execute_result"
    }
   ],
   "source": [
    "from fractions import Fraction\n",
    "\n",
    "\n",
    "def is_curious_fraction(numerator, denominator):\n",
    "    numerator_str, denominator_str = str(numerator), str(denominator)\n",
    "\n",
    "    if numerator_str[1] == denominator_str[0] and int((denominator_str[1])) != 0:\n",
    "        return numerator / denominator == int(numerator_str[0]) / int(\n",
    "            denominator_str[1]\n",
    "        )\n",
    "\n",
    "    elif numerator_str[0] == denominator_str[1] and int(denominator_str[0]) != 0:\n",
    "        return numerator / denominator == int(numerator_str[1]) / int(\n",
    "            denominator_str[0]\n",
    "        )\n",
    "    else:\n",
    "        return False\n",
    "\n",
    "\n",
    "def get_denominator():\n",
    "    product_of_curious_fraction = 1\n",
    "\n",
    "    for numerator in range(10, 100):\n",
    "        for denominator in range(numerator + 1, 100):\n",
    "            if is_curious_fraction(numerator, denominator):\n",
    "                fraction = Fraction(numerator, denominator)\n",
    "\n",
    "                product_of_curious_fraction *= fraction\n",
    "\n",
    "    # denominator is a method available for fractions instances, and it is not\n",
    "    # from the above iterator in the for loop\n",
    "    return product_of_curious_fraction.denominator\n",
    "\n",
    "\n",
    "get_denominator()"
   ]
  },
  {
   "attachments": {},
   "cell_type": "markdown",
   "metadata": {},
   "source": [
    "4. \n",
    "\n",
    "145 is a curious number, as 1! + 4! + 5! = 1 + 24 + 120 = 145.\n",
    "\n",
    "Find the sum of all numbers which are equal to the sum of the factorial of their digits.\n",
    "\n",
    "Note: As 1! = 1 and 2! = 2 are not sums they are not included.\n"
   ]
  },
  {
   "cell_type": "code",
   "execution_count": 1,
   "metadata": {},
   "outputs": [
    {
     "data": {
      "text/plain": [
       "40730"
      ]
     },
     "execution_count": 1,
     "metadata": {},
     "output_type": "execute_result"
    }
   ],
   "source": [
    "from math import factorial\n",
    "\n",
    "fact_lst = [factorial(i) for i in range(10)]\n",
    "\n",
    "\n",
    "def sum_factorial(n):\n",
    "    fact_sum = 0\n",
    "\n",
    "    while n > 0:\n",
    "        digit = n % 10\n",
    "        n = n // 10\n",
    "\n",
    "        fact_sum += fact_lst[digit]\n",
    "\n",
    "    return fact_sum\n",
    "\n",
    "\n",
    "def sum_curious_numbers(lower_bound, upper_bound):\n",
    "    sum_curious_number = 0\n",
    "\n",
    "    for i in range(lower_bound, upper_bound):\n",
    "        if i == sum_factorial(i):\n",
    "            sum_curious_number += i\n",
    "\n",
    "    return sum_curious_number\n",
    "\n",
    "\n",
    "sum_curious_numbers(10, 1499999)\n"
   ]
  },
  {
   "attachments": {},
   "cell_type": "markdown",
   "metadata": {},
   "source": [
    "5. \n",
    "\n",
    "The number, 197, is called a circular prime because all rotations of the digits: 197, 971, and 719, are themselves prime.\n",
    "\n",
    "There are thirteen such primes below 100: 2, 3, 5, 7, 11, 13, 17, 31, 37, 71, 73, 79, and 97.\n",
    "\n",
    "How many circular primes are there below one million?\n"
   ]
  },
  {
   "cell_type": "code",
   "execution_count": 6,
   "metadata": {},
   "outputs": [
    {
     "name": "stdout",
     "output_type": "stream",
     "text": [
      "55\n"
     ]
    }
   ],
   "source": [
    "from math import isqrt\n",
    "\n",
    "def is_prime(n) :\n",
    "\n",
    "    if n < 3 :\n",
    "        return 2 > 1\n",
    "\n",
    "    if n % 2 == 0 or n % 3 == 0 :\n",
    "        return False\n",
    "\n",
    "    for i in range(5, isqrt(n) + 1, 6) :\n",
    "        if n % i == 0 or n % (i +2 ) == 0 :\n",
    "            return False\n",
    "    return True\n",
    "\n",
    "\n",
    "def rotate(i) :   \n",
    "\n",
    "    digits = str(i)    \n",
    "  \n",
    "    for j in range(len(digits) - 1) :\n",
    "        new_num = \"\"\n",
    "        new_num += digits[j + 1:] + digits[:j + 1]\n",
    "        yield int(new_num)\n",
    "\n",
    "def count_circular_prime(limit) :\n",
    "\n",
    "    count  = 5 \n",
    "\n",
    "    for i in range(13, limit) :\n",
    "        if i % 2 == 0 or i % 3 == 0 :\n",
    "            continue\n",
    "\n",
    "        if is_prime(i):\n",
    "            if all(is_prime(j) for j in rotate(i)) :\n",
    "                count += 1\n",
    "\n",
    "    return count\n",
    "\n",
    "count_circular_prime(1000000)"
   ]
  }
 ],
 "metadata": {
  "kernelspec": {
   "display_name": "Python 3 (ipykernel)",
   "language": "python",
   "name": "python3"
  },
  "language_info": {
   "codemirror_mode": {
    "name": "ipython",
    "version": 3
   },
   "file_extension": ".py",
   "mimetype": "text/x-python",
   "name": "python",
   "nbconvert_exporter": "python",
   "pygments_lexer": "ipython3",
   "version": "3.10.6"
  }
 },
 "nbformat": 4,
 "nbformat_minor": 2
}
