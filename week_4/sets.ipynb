{
 "cells": [
  {
   "cell_type": "markdown",
   "metadata": {},
   "source": [
    "1. Given two sets A and B, write a function to return the symmetric difference between them as a new set. The symmetric difference is the set of elements that are in either A or B, but not in both."
   ]
  },
  {
   "cell_type": "code",
   "execution_count": 1,
   "metadata": {},
   "outputs": [
    {
     "name": "stdout",
     "output_type": "stream",
     "text": [
      "{1, 3, 4, 6}\n"
     ]
    }
   ],
   "source": [
    "def symmetricDifference(set_A, set_B):\n",
    "    sym_diff = set_A ^ set_B\n",
    "\n",
    "    return sym_diff\n",
    "\n",
    "\n",
    "print(symmetricDifference({1, 2, 3}, {4, 2, 6}))\n"
   ]
  },
  {
   "cell_type": "markdown",
   "metadata": {},
   "source": [
    "2. Given a list of numbers, write a function to return a set of all prime numbers from the list."
   ]
  },
  {
   "cell_type": "code",
   "execution_count": 27,
   "metadata": {},
   "outputs": [
    {
     "data": {
      "text/plain": [
       "{1, 2, 97}"
      ]
     },
     "execution_count": 27,
     "metadata": {},
     "output_type": "execute_result"
    }
   ],
   "source": [
    "def prime_set(number_list):\n",
    "    from math import isqrt\n",
    "\n",
    "    prime_number_set = set()\n",
    "\n",
    "    def is_prime(n):\n",
    "        if n <= 3 and n > 1:\n",
    "            return True\n",
    "        if n % 2 == 0 or n % 3 == 0:\n",
    "            return False\n",
    "\n",
    "        for i in range(5, isqrt(n) + 1, 6):\n",
    "            if n % i == 0 or n % (i + 2) == 0:\n",
    "                return False\n",
    "        return True\n",
    "\n",
    "    for number in number_list:\n",
    "        try:\n",
    "            if is_prime(number):\n",
    "                prime_number_set.add(number)\n",
    "\n",
    "        except (TypeError, ValueError):\n",
    "            pass\n",
    "\n",
    "    return prime_number_set\n",
    "\n",
    "\n",
    "prime_set([69, 86, 88, 98, 97, 6, 80, 34, 75, 1, 2, 0, -1, 1])"
   ]
  },
  {
   "cell_type": "markdown",
   "metadata": {},
   "source": [
    "3. Given a list of words, write a function to return a set of all anagrams in the list."
   ]
  },
  {
   "cell_type": "code",
   "execution_count": 17,
   "metadata": {},
   "outputs": [
    {
     "data": {
      "text/plain": [
       "{'Act', 'SLIT', 'cat', 'list'}"
      ]
     },
     "execution_count": 17,
     "metadata": {},
     "output_type": "execute_result"
    }
   ],
   "source": [
    "def get_set_of_anagrams(words_list):\n",
    "    anagrams_set = set()\n",
    "    words_dict = {}\n",
    "\n",
    "    for word in words_list:\n",
    "        try:\n",
    "            sorted_word = \"\".join(sorted(word)).upper()\n",
    "            if sorted_word in words_dict:\n",
    "                words_dict[sorted_word].append(word)\n",
    "            else:\n",
    "                words_dict[sorted_word] = [word]\n",
    "\n",
    "        except TypeError:\n",
    "#             print(\"List should not contain non-string values\")\n",
    "                pass\n",
    "\n",
    "    for key in words_dict:\n",
    "        if len(words_dict[key]) > 1:\n",
    "            anagrams_set.update(words_dict[key])\n",
    "\n",
    "    return anagrams_set\n",
    "\n",
    "\n",
    "get_set_of_anagrams([\"cat\", \"Act\", \"list\", \"SLIT\", \"dog\", 2]) "
   ]
  },
  {
   "cell_type": "markdown",
   "metadata": {},
   "source": [
    "4. Given a list of sets, write a function to return the Cartesian product of all sets in the list."
   ]
  },
  {
   "cell_type": "code",
   "execution_count": 2,
   "metadata": {},
   "outputs": [
    {
     "name": "stdout",
     "output_type": "stream",
     "text": [
      "[(1, 4, 7), (1, 4, 8), (1, 4, 9), (1, 5, 7), (1, 5, 8), (1, 5, 9), (2, 4, 7), (2, 4, 8), (2, 4, 9), (2, 5, 7), (2, 5, 8), (2, 5, 9), (3, 4, 7), (3, 4, 8), (3, 4, 9), (3, 5, 7), (3, 5, 8), (3, 5, 9)]\n"
     ]
    }
   ],
   "source": [
    "def get_cartesian_product(list_of_sets):\n",
    "    if not list_of_sets:\n",
    "        return {()}\n",
    "\n",
    "    else:\n",
    "        cartesian_product = set()\n",
    "        for element in list_of_sets[0]:\n",
    "            for element_in_next_set in get_cartesian_product(list_of_sets[1:]):\n",
    "                cartesian_product.add((element,) + element_in_next_set)\n",
    "        return sorted(list(cartesian_product))\n",
    "\n",
    "\n",
    "print(get_cartesian_product([{1, 2, 3}, {4, 5}, {7, 8, 9}]))"
   ]
  },
  {
   "cell_type": "code",
   "execution_count": null,
   "metadata": {},
   "outputs": [],
   "source": []
  }
 ],
 "metadata": {
  "kernelspec": {
   "display_name": "Python 3 (ipykernel)",
   "language": "python",
   "name": "python3"
  },
  "language_info": {
   "codemirror_mode": {
    "name": "ipython",
    "version": 3
   },
   "file_extension": ".py",
   "mimetype": "text/x-python",
   "name": "python",
   "nbconvert_exporter": "python",
   "pygments_lexer": "ipython3",
   "version": "3.9.13"
  },
  "vscode": {
   "interpreter": {
    "hash": "f7a5be651532581cb44625d52e18aa1d390cab54bc6b51099d8c30bea9b68219"
   }
  }
 },
 "nbformat": 4,
 "nbformat_minor": 2
}
